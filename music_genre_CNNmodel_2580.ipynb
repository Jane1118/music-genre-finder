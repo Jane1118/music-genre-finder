{
  "nbformat": 4,
  "nbformat_minor": 0,
  "metadata": {
    "colab": {
      "name": "music_genre_CNNmodel_2580.ipynb",
      "version": "0.3.2",
      "provenance": [],
      "collapsed_sections": [],
      "toc_visible": true,
      "include_colab_link": true
    },
    "kernelspec": {
      "name": "python3",
      "display_name": "Python 3"
    },
    "accelerator": "GPU"
  },
  "cells": [
    {
      "cell_type": "markdown",
      "metadata": {
        "id": "view-in-github",
        "colab_type": "text"
      },
      "source": [
        "[View in Colaboratory](https://colab.research.google.com/github/Jane1118/music-genre-finder/blob/master/music_genre_CNNmodel_2580.ipynb)"
      ]
    },
    {
      "metadata": {
        "id": "owvn-NeJ4xR4",
        "colab_type": "text"
      },
      "cell_type": "markdown",
      "source": [
        "# Modelling music genres with Convolutional Neural Networks"
      ]
    },
    {
      "metadata": {
        "id": "_daDlVNS4zAT",
        "colab_type": "text"
      },
      "cell_type": "markdown",
      "source": [
        "The previous notebook was mostly about **data processing**:\n",
        "- Download the initial data,\n",
        "- Reduce it,\n",
        "- Make it more readable.\n",
        "\n",
        "Here, we will be using the output of that previous notebook."
      ]
    },
    {
      "metadata": {
        "id": "FuCXT0Kyx_bJ",
        "colab_type": "text"
      },
      "cell_type": "markdown",
      "source": [
        "## Importing the data we need"
      ]
    },
    {
      "metadata": {
        "id": "el92Q248yq-g",
        "colab_type": "text"
      },
      "cell_type": "markdown",
      "source": [
        "Note: the Google Drive download **should work** no matter the Google account the user may choose for the authentication."
      ]
    },
    {
      "metadata": {
        "id": "K__v0jccyKuA",
        "colab_type": "code",
        "colab": {}
      },
      "cell_type": "code",
      "source": [
        "import pandas as pd\n",
        "import numpy as np\n",
        "import os\n",
        "import time\n",
        "import matplotlib.pyplot as plt"
      ],
      "execution_count": 0,
      "outputs": []
    },
    {
      "metadata": {
        "id": "Eu8ceduFuGe0",
        "colab_type": "code",
        "outputId": "c3104a31-da90-405f-9034-8402f1eb8fb7",
        "colab": {
          "base_uri": "https://localhost:8080/",
          "height": 322
        }
      },
      "cell_type": "code",
      "source": [
        "!pip install torchvision"
      ],
      "execution_count": 0,
      "outputs": [
        {
          "output_type": "stream",
          "text": [
            "Collecting torchvision\n",
            "\u001b[?25l  Downloading https://files.pythonhosted.org/packages/ca/0d/f00b2885711e08bd71242ebe7b96561e6f6d01fdb4b9dcf4d37e2e13c5e1/torchvision-0.2.1-py2.py3-none-any.whl (54kB)\n",
            "\u001b[K    100% |████████████████████████████████| 61kB 2.4MB/s \n",
            "\u001b[?25hRequirement already satisfied: numpy in /usr/local/lib/python3.6/dist-packages (from torchvision) (1.14.6)\n",
            "Collecting torch (from torchvision)\n",
            "\u001b[?25l  Downloading https://files.pythonhosted.org/packages/49/0e/e382bcf1a6ae8225f50b99cc26effa2d4cc6d66975ccf3fa9590efcbedce/torch-0.4.1-cp36-cp36m-manylinux1_x86_64.whl (519.5MB)\n",
            "\u001b[K    100% |████████████████████████████████| 519.5MB 26kB/s \n",
            "tcmalloc: large alloc 1073750016 bytes == 0x59098000 @  0x7f5b11fad2a4 0x594e17 0x626104 0x51190a 0x4f5277 0x510c78 0x5119bd 0x4f5277 0x4f3338 0x510fb0 0x5119bd 0x4f5277 0x4f3338 0x510fb0 0x5119bd 0x4f5277 0x4f3338 0x510fb0 0x5119bd 0x4f6070 0x510c78 0x5119bd 0x4f5277 0x4f3338 0x510fb0 0x5119bd 0x4f6070 0x4f3338 0x510fb0 0x5119bd 0x4f6070\n",
            "\u001b[?25hRequirement already satisfied: six in /usr/local/lib/python3.6/dist-packages (from torchvision) (1.11.0)\n",
            "Collecting pillow>=4.1.1 (from torchvision)\n",
            "\u001b[?25l  Downloading https://files.pythonhosted.org/packages/62/94/5430ebaa83f91cc7a9f687ff5238e26164a779cca2ef9903232268b0a318/Pillow-5.3.0-cp36-cp36m-manylinux1_x86_64.whl (2.0MB)\n",
            "\u001b[K    100% |████████████████████████████████| 2.0MB 2.4MB/s \n",
            "\u001b[?25hInstalling collected packages: torch, pillow, torchvision\n",
            "  Found existing installation: Pillow 4.0.0\n",
            "    Uninstalling Pillow-4.0.0:\n",
            "      Successfully uninstalled Pillow-4.0.0\n",
            "Successfully installed pillow-5.3.0 torch-0.4.1 torchvision-0.2.1\n"
          ],
          "name": "stdout"
        }
      ]
    },
    {
      "metadata": {
        "id": "_skJf2uSt-ai",
        "colab_type": "code",
        "colab": {}
      },
      "cell_type": "code",
      "source": [
        "import torch\n",
        "import torchvision\n",
        "from torchvision import models,transforms,datasets"
      ],
      "execution_count": 0,
      "outputs": []
    },
    {
      "metadata": {
        "id": "3HwHAmtD5D6v",
        "colab_type": "code",
        "colab": {}
      },
      "cell_type": "code",
      "source": [
        "# Install the PyDrive wrapper & import libraries.\n",
        "# This only needs to be done once per notebook.\n",
        "!pip install -U -q PyDrive\n",
        "from pydrive.auth import GoogleAuth\n",
        "from pydrive.drive import GoogleDrive\n",
        "from google.colab import auth\n",
        "from oauth2client.client import GoogleCredentials\n",
        "\n",
        "# Authenticate and create the PyDrive client.\n",
        "# This only needs to be done once per notebook.\n",
        "auth.authenticate_user()\n",
        "gauth = GoogleAuth()\n",
        "gauth.credentials = GoogleCredentials.get_application_default()\n",
        "drive = GoogleDrive(gauth)\n",
        "\n",
        "# Download a file based on its file ID.\n",
        "#\n",
        "# A file ID looks like: laggVyWshwcyP6kEI-y_W3P8D26sz\n",
        "\n",
        "zip_id = '1n-sRLDAAZfdibGQXPYYo8v0s0rcDGJC6'\n",
        "downloaded = drive.CreateFile({'id': zip_id})\n",
        "downloaded.GetContentFile('zip_spectrogram.zip')\n",
        "\n",
        "small_id = \"1maJ4o_aHSy-ZLHUzOYuQ0QnRbS3rIciX\"\n",
        "downloaded = drive.CreateFile({'id': small_id})\n",
        "downloaded.GetContentFile('small_tracks.csv')\n",
        "\n",
        "\n",
        "tracks_id = \"1me5bv76Fd9mFyJd25TSzOrl6SrcxsFFk\"\n",
        "downloaded = drive.CreateFile({'id': tracks_id})\n",
        "downloaded.GetContentFile('tracks.csv')\n",
        "\n",
        "\n",
        "#print('Downloaded content \"{}\"'.format(downloaded.GetContentString()))"
      ],
      "execution_count": 0,
      "outputs": []
    },
    {
      "metadata": {
        "id": "ITF7iBnkx17W",
        "colab_type": "text"
      },
      "cell_type": "markdown",
      "source": [
        "The step of unzipping the spectrograms, and then loading them to the memory, still takes pretty long (though much less so than the original one)."
      ]
    },
    {
      "metadata": {
        "id": "MAh09QVixig8",
        "colab_type": "code",
        "outputId": "c3ccafe8-45c8-462e-ecec-aae4b7be1d1f",
        "colab": {
          "base_uri": "https://localhost:8080/",
          "height": 16867
        }
      },
      "cell_type": "code",
      "source": [
        "!unzip zip_spectrogram.zip"
      ],
      "execution_count": 0,
      "outputs": [
        {
          "output_type": "stream",
          "text": [
            "Archive:  zip_spectrogram.zip\n",
            "   creating: spectrogram/\n",
            "  inflating: spectrogram/109905.txt  \n",
            "  inflating: spectrogram/126187.txt  \n",
            "  inflating: spectrogram/122809.txt  \n",
            "  inflating: spectrogram/116704.txt  \n",
            "  inflating: spectrogram/003832.txt  \n",
            "  inflating: spectrogram/127299.txt  \n",
            "  inflating: spectrogram/152545.txt  \n",
            "  inflating: spectrogram/004233.txt  \n",
            "  inflating: spectrogram/108014.txt  \n",
            "  inflating: spectrogram/031887.txt  \n",
            "  inflating: spectrogram/063804.txt  \n",
            "  inflating: spectrogram/042046.txt  \n",
            "  inflating: spectrogram/145710.txt  \n",
            "  inflating: spectrogram/043842.txt  \n",
            "  inflating: spectrogram/114279.txt  \n",
            "  inflating: spectrogram/006394.txt  \n",
            "  inflating: spectrogram/004070.txt  \n",
            "  inflating: spectrogram/092129.txt  \n",
            "  inflating: spectrogram/092951.txt  \n",
            "  inflating: spectrogram/048367.txt  \n",
            "  inflating: spectrogram/006342.txt  \n",
            "  inflating: spectrogram/081555.txt  \n",
            "  inflating: spectrogram/143216.txt  \n",
            "  inflating: spectrogram/044796.txt  \n",
            "  inflating: spectrogram/126018.txt  \n",
            "  inflating: spectrogram/120150.txt  \n",
            "  inflating: spectrogram/123485.txt  \n",
            "  inflating: spectrogram/064516.txt  \n",
            "  inflating: spectrogram/134919.txt  \n",
            "  inflating: spectrogram/003624.txt  \n",
            "  inflating: spectrogram/085420.txt  \n",
            "  inflating: spectrogram/059374.txt  \n",
            "  inflating: spectrogram/003721.txt  \n",
            "  inflating: spectrogram/138282.txt  \n",
            "  inflating: spectrogram/024524.txt  \n",
            "  inflating: spectrogram/073369.txt  \n",
            "  inflating: spectrogram/051120.txt  \n",
            "  inflating: spectrogram/064078.txt  \n",
            "  inflating: spectrogram/064631.txt  \n",
            "  inflating: spectrogram/013218.txt  \n",
            "  inflating: spectrogram/056929.txt  \n",
            "  inflating: spectrogram/024702.txt  \n",
            "  inflating: spectrogram/125193.txt  \n",
            "  inflating: spectrogram/134801.txt  \n",
            "  inflating: spectrogram/123762.txt  \n",
            "  inflating: spectrogram/105713.txt  \n",
            "  inflating: spectrogram/013474.txt  \n",
            "  inflating: spectrogram/148609.txt  \n",
            "  inflating: spectrogram/016820.txt  \n",
            "  inflating: spectrogram/016880.txt  \n",
            "  inflating: spectrogram/110206.txt  \n",
            "  inflating: spectrogram/035544.txt  \n",
            "  inflating: spectrogram/131656.txt  \n",
            "  inflating: spectrogram/114076.txt  \n",
            "  inflating: spectrogram/081802.txt  \n",
            "  inflating: spectrogram/091938.txt  \n",
            "  inflating: spectrogram/087160.txt  \n",
            "  inflating: spectrogram/085592.txt  \n",
            "  inflating: spectrogram/113018.txt  \n",
            "  inflating: spectrogram/026656.txt  \n",
            "  inflating: spectrogram/126882.txt  \n",
            "  inflating: spectrogram/075399.txt  \n",
            "  inflating: spectrogram/000821.txt  \n",
            "  inflating: spectrogram/006448.txt  \n",
            "  inflating: spectrogram/112314.txt  \n",
            "  inflating: spectrogram/148602.txt  \n",
            "  inflating: spectrogram/092562.txt  \n",
            "  inflating: spectrogram/121998.txt  \n",
            "  inflating: spectrogram/143989.txt  \n",
            "  inflating: spectrogram/061160.txt  \n",
            "  inflating: spectrogram/044342.txt  \n",
            "  inflating: spectrogram/133838.txt  \n",
            "  inflating: spectrogram/054019.txt  \n",
            "  inflating: spectrogram/019179.txt  \n",
            "  inflating: spectrogram/048494.txt  \n",
            "  inflating: spectrogram/054942.txt  \n",
            "  inflating: spectrogram/060042.txt  \n",
            "  inflating: spectrogram/085421.txt  \n",
            "  inflating: spectrogram/084055.txt  \n",
            "  inflating: spectrogram/016822.txt  \n",
            "  inflating: spectrogram/114558.txt  \n",
            "  inflating: spectrogram/001069.txt  \n",
            "  inflating: spectrogram/111389.txt  \n",
            "  inflating: spectrogram/131657.txt  \n",
            "  inflating: spectrogram/075862.txt  \n",
            "  inflating: spectrogram/127559.txt  \n",
            "  inflating: spectrogram/044791.txt  \n",
            "  inflating: spectrogram/108500.txt  \n",
            "  inflating: spectrogram/115849.txt  \n",
            "  inflating: spectrogram/049848.txt  \n",
            "  inflating: spectrogram/108840.txt  \n",
            "  inflating: spectrogram/092574.txt  \n",
            "  inflating: spectrogram/000704.txt  \n",
            "  inflating: spectrogram/027552.txt  \n",
            "  inflating: spectrogram/099313.txt  \n",
            "  inflating: spectrogram/072050.txt  \n",
            "  inflating: spectrogram/138064.txt  \n",
            "  inflating: spectrogram/127936.txt  \n",
            "  inflating: spectrogram/050752.txt  \n",
            "  inflating: spectrogram/126773.txt  \n",
            "  inflating: spectrogram/110070.txt  \n",
            "  inflating: spectrogram/130132.txt  \n",
            "  inflating: spectrogram/110110.txt  \n",
            "  inflating: spectrogram/052636.txt  \n",
            "  inflating: spectrogram/060533.txt  \n",
            "  inflating: spectrogram/046840.txt  \n",
            "  inflating: spectrogram/010697.txt  \n",
            "  inflating: spectrogram/131953.txt  \n",
            "  inflating: spectrogram/038362.txt  \n",
            "  inflating: spectrogram/080695.txt  \n",
            "  inflating: spectrogram/075903.txt  \n",
            "  inflating: spectrogram/052637.txt  \n",
            "  inflating: spectrogram/046846.txt  \n",
            "  inflating: spectrogram/075401.txt  \n",
            "  inflating: spectrogram/046158.txt  \n",
            "  inflating: spectrogram/059685.txt  \n",
            "  inflating: spectrogram/140259.txt  \n",
            "  inflating: spectrogram/026643.txt  \n",
            "  inflating: spectrogram/138318.txt  \n",
            "  inflating: spectrogram/122623.txt  \n",
            "  inflating: spectrogram/027609.txt  \n",
            "  inflating: spectrogram/069205.txt  \n",
            "  inflating: spectrogram/006354.txt  \n",
            "  inflating: spectrogram/021232.txt  \n",
            "  inflating: spectrogram/115591.txt  \n",
            "  inflating: spectrogram/099411.txt  \n",
            "  inflating: spectrogram/073770.txt  \n",
            "  inflating: spectrogram/012985.txt  \n",
            "  inflating: spectrogram/127194.txt  \n",
            "  inflating: spectrogram/004102.txt  \n",
            "  inflating: spectrogram/107911.txt  \n",
            "  inflating: spectrogram/130921.txt  \n",
            "  inflating: spectrogram/112668.txt  \n",
            "  inflating: spectrogram/118012.txt  \n",
            "  inflating: spectrogram/023862.txt  \n",
            "  inflating: spectrogram/141878.txt  \n",
            "  inflating: spectrogram/024515.txt  \n",
            "  inflating: spectrogram/096401.txt  \n",
            "  inflating: spectrogram/074378.txt  \n",
            "  inflating: spectrogram/059676.txt  \n",
            "  inflating: spectrogram/129095.txt  \n",
            "  inflating: spectrogram/026169.txt  \n",
            "  inflating: spectrogram/030522.txt  \n",
            "  inflating: spectrogram/109349.txt  \n",
            "  inflating: spectrogram/087187.txt  \n",
            "  inflating: spectrogram/108494.txt  \n",
            "  inflating: spectrogram/067235.txt  \n",
            "  inflating: spectrogram/145729.txt  \n",
            "  inflating: spectrogram/001482.txt  \n",
            "  inflating: spectrogram/089814.txt  \n",
            "  inflating: spectrogram/058212.txt  \n",
            "  inflating: spectrogram/127155.txt  \n",
            "  inflating: spectrogram/149953.txt  \n",
            "  inflating: spectrogram/114402.txt  \n",
            "  inflating: spectrogram/138068.txt  \n",
            "  inflating: spectrogram/098302.txt  \n",
            "  inflating: spectrogram/046157.txt  \n",
            "  inflating: spectrogram/098623.txt  \n",
            "  inflating: spectrogram/134580.txt  \n",
            "  inflating: spectrogram/091936.txt  \n",
            "  inflating: spectrogram/118502.txt  \n",
            "  inflating: spectrogram/025601.txt  \n",
            "  inflating: spectrogram/050445.txt  \n",
            "  inflating: spectrogram/063252.txt  \n",
            "  inflating: spectrogram/122936.txt  \n",
            "  inflating: spectrogram/044917.txt  \n",
            "  inflating: spectrogram/115592.txt  \n",
            "  inflating: spectrogram/108843.txt  \n",
            "  inflating: spectrogram/108460.txt  \n",
            "  inflating: spectrogram/062001.txt  \n",
            "  inflating: spectrogram/104284.txt  \n",
            "  inflating: spectrogram/127208.txt  \n",
            "  inflating: spectrogram/027667.txt  \n",
            "  inflating: spectrogram/020667.txt  \n",
            "  inflating: spectrogram/011933.txt  \n",
            "  inflating: spectrogram/108475.txt  \n",
            "  inflating: spectrogram/013578.txt  \n",
            "  inflating: spectrogram/149118.txt  \n",
            "  inflating: spectrogram/045392.txt  \n",
            "  inflating: spectrogram/141139.txt  \n",
            "  inflating: spectrogram/049401.txt  \n",
            "  inflating: spectrogram/120774.txt  \n",
            "  inflating: spectrogram/022480.txt  \n",
            "  inflating: spectrogram/004520.txt  \n",
            "  inflating: spectrogram/078847.txt  \n",
            "  inflating: spectrogram/061592.txt  \n",
            "  inflating: spectrogram/068862.txt  \n",
            "  inflating: spectrogram/148082.txt  \n",
            "  inflating: spectrogram/064410.txt  \n",
            "  inflating: spectrogram/108528.txt  \n",
            "  inflating: spectrogram/129401.txt  \n",
            "  inflating: spectrogram/146483.txt  \n",
            "  inflating: spectrogram/000814.txt  \n",
            "  inflating: spectrogram/115724.txt  \n",
            "  inflating: spectrogram/066757.txt  \n",
            "  inflating: spectrogram/100976.txt  \n",
            "  inflating: spectrogram/113949.txt  \n",
            "  inflating: spectrogram/094026.txt  \n",
            "  inflating: spectrogram/114536.txt  \n",
            "  inflating: spectrogram/119988.txt  \n",
            "  inflating: spectrogram/108016.txt  \n",
            "  inflating: spectrogram/131476.txt  \n",
            "  inflating: spectrogram/021999.txt  \n",
            "  inflating: spectrogram/004778.txt  \n",
            "  inflating: spectrogram/042019.txt  \n",
            "  inflating: spectrogram/046854.txt  \n",
            "  inflating: spectrogram/144587.txt  \n",
            "  inflating: spectrogram/107506.txt  \n",
            "  inflating: spectrogram/065745.txt  \n",
            "  inflating: spectrogram/006605.txt  \n",
            "  inflating: spectrogram/136468.txt  \n",
            "  inflating: spectrogram/129914.txt  \n",
            "  inflating: spectrogram/067673.txt  \n",
            "  inflating: spectrogram/067331.txt  \n",
            "  inflating: spectrogram/074385.txt  \n",
            "  inflating: spectrogram/010807.txt  \n",
            "  inflating: spectrogram/011784.txt  \n",
            "  inflating: spectrogram/108499.txt  \n",
            "  inflating: spectrogram/061591.txt  \n",
            "  inflating: spectrogram/072738.txt  \n",
            "  inflating: spectrogram/098238.txt  \n",
            "  inflating: spectrogram/027802.txt  \n",
            "  inflating: spectrogram/120184.txt  \n",
            "  inflating: spectrogram/133731.txt  \n",
            "  inflating: spectrogram/026022.txt  \n",
            "  inflating: spectrogram/054624.txt  \n",
            "  inflating: spectrogram/127912.txt  \n",
            "  inflating: spectrogram/075378.txt  \n",
            "  inflating: spectrogram/121316.txt  \n",
            "  inflating: spectrogram/091178.txt  \n",
            "  inflating: spectrogram/121366.txt  \n",
            "  inflating: spectrogram/145043.txt  \n",
            "  inflating: spectrogram/140135.txt  \n",
            "  inflating: spectrogram/043698.txt  \n",
            "  inflating: spectrogram/124484.txt  \n",
            "  inflating: spectrogram/004682.txt  \n",
            "  inflating: spectrogram/081803.txt  \n",
            "  inflating: spectrogram/127806.txt  \n",
            "  inflating: spectrogram/039488.txt  \n",
            "  inflating: spectrogram/124186.txt  \n",
            "  inflating: spectrogram/135989.txt  \n",
            "  inflating: spectrogram/084157.txt  \n",
            "  inflating: spectrogram/071511.txt  \n",
            "  inflating: spectrogram/038365.txt  \n",
            "  inflating: spectrogram/067010.txt  \n",
            "  inflating: spectrogram/001683.txt  \n",
            "  inflating: spectrogram/043026.txt  \n",
            "  inflating: spectrogram/072287.txt  \n",
            "  inflating: spectrogram/069825.txt  \n",
            "  inflating: spectrogram/007381.txt  \n",
            "  inflating: spectrogram/131902.txt  \n",
            "  inflating: spectrogram/059451.txt  \n",
            "  inflating: spectrogram/098205.txt  \n",
            "  inflating: spectrogram/096738.txt  \n",
            "  inflating: spectrogram/121737.txt  \n",
            "  inflating: spectrogram/127290.txt  \n",
            "  inflating: spectrogram/148519.txt  \n",
            "  inflating: spectrogram/026905.txt  \n",
            "  inflating: spectrogram/042045.txt  \n",
            "  inflating: spectrogram/036997.txt  \n",
            "  inflating: spectrogram/132675.txt  \n",
            "  inflating: spectrogram/004799.txt  \n",
            "  inflating: spectrogram/088429.txt  \n",
            "  inflating: spectrogram/143106.txt  \n",
            "  inflating: spectrogram/126430.txt  \n",
            "  inflating: spectrogram/120172.txt  \n",
            "  inflating: spectrogram/126608.txt  \n",
            "  inflating: spectrogram/134981.txt  \n",
            "  inflating: spectrogram/036428.txt  \n",
            "  inflating: spectrogram/049857.txt  \n",
            "  inflating: spectrogram/123645.txt  \n",
            "  inflating: spectrogram/115773.txt  \n",
            "  inflating: spectrogram/038904.txt  \n",
            "  inflating: spectrogram/113284.txt  \n",
            "  inflating: spectrogram/092556.txt  \n",
            "  inflating: spectrogram/124485.txt  \n",
            "  inflating: spectrogram/011503.txt  \n",
            "  inflating: spectrogram/037730.txt  \n",
            "  inflating: spectrogram/131922.txt  \n",
            "  inflating: spectrogram/070002.txt  \n",
            "  inflating: spectrogram/000695.txt  \n",
            "  inflating: spectrogram/024748.txt  \n",
            "  inflating: spectrogram/140565.txt  \n",
            "  inflating: spectrogram/070768.txt  \n",
            "  inflating: spectrogram/010675.txt  \n",
            "  inflating: spectrogram/094348.txt  \n",
            "  inflating: spectrogram/057439.txt  \n",
            "  inflating: spectrogram/114234.txt  \n",
            "  inflating: spectrogram/131939.txt  \n",
            "  inflating: spectrogram/141618.txt  \n",
            "  inflating: spectrogram/062193.txt  \n",
            "  inflating: spectrogram/075403.txt  \n",
            "  inflating: spectrogram/119579.txt  \n",
            "  inflating: spectrogram/039900.txt  \n",
            "  inflating: spectrogram/010186.txt  \n",
            "  inflating: spectrogram/122081.txt  \n",
            "  inflating: spectrogram/120323.txt  \n",
            "  inflating: spectrogram/047916.txt  \n",
            "  inflating: spectrogram/047199.txt  \n",
            "  inflating: spectrogram/113270.txt  \n",
            "  inflating: spectrogram/121595.txt  \n",
            "  inflating: spectrogram/013537.txt  \n",
            "  inflating: spectrogram/054576.txt  \n",
            "  inflating: spectrogram/120200.txt  \n",
            "  inflating: spectrogram/122934.txt  \n",
            "  inflating: spectrogram/145475.txt  \n",
            "  inflating: spectrogram/141264.txt  \n",
            "  inflating: spectrogram/028479.txt  \n",
            "  inflating: spectrogram/000666.txt  \n",
            "  inflating: spectrogram/024429.txt  \n",
            "  inflating: spectrogram/123004.txt  \n",
            "  inflating: spectrogram/059657.txt  \n",
            "  inflating: spectrogram/014693.txt  \n",
            "  inflating: spectrogram/012064.txt  \n",
            "  inflating: spectrogram/148611.txt  \n",
            "  inflating: spectrogram/075763.txt  \n",
            "  inflating: spectrogram/114062.txt  \n",
            "  inflating: spectrogram/091179.txt  \n",
            "  inflating: spectrogram/108017.txt  \n",
            "  inflating: spectrogram/114266.txt  \n",
            "  inflating: spectrogram/122397.txt  \n",
            "  inflating: spectrogram/073550.txt  \n",
            "  inflating: spectrogram/019417.txt  \n",
            "  inflating: spectrogram/141592.txt  \n",
            "  inflating: spectrogram/149139.txt  \n",
            "  inflating: spectrogram/130129.txt  \n",
            "  inflating: spectrogram/127302.txt  \n",
            "  inflating: spectrogram/040909.txt  \n",
            "  inflating: spectrogram/118672.txt  \n",
            "  inflating: spectrogram/048493.txt  \n",
            "  inflating: spectrogram/128882.txt  \n",
            "  inflating: spectrogram/133434.txt  \n",
            "  inflating: spectrogram/074959.txt  \n",
            "  inflating: spectrogram/097590.txt  \n",
            "  inflating: spectrogram/120199.txt  \n",
            "  inflating: spectrogram/114045.txt  \n",
            "  inflating: spectrogram/153452.txt  \n",
            "  inflating: spectrogram/122808.txt  \n",
            "  inflating: spectrogram/129927.txt  \n",
            "  inflating: spectrogram/122395.txt  \n",
            "  inflating: spectrogram/024425.txt  \n",
            "  inflating: spectrogram/028484.txt  \n",
            "  inflating: spectrogram/059727.txt  \n",
            "  inflating: spectrogram/045101.txt  \n",
            "  inflating: spectrogram/130369.txt  \n",
            "  inflating: spectrogram/058053.txt  \n",
            "  inflating: spectrogram/129923.txt  \n",
            "  inflating: spectrogram/073779.txt  \n",
            "  inflating: spectrogram/096168.txt  \n",
            "  inflating: spectrogram/082930.txt  \n",
            "  inflating: spectrogram/006358.txt  \n",
            "  inflating: spectrogram/030058.txt  \n",
            "  inflating: spectrogram/054464.txt  \n",
            "  inflating: spectrogram/100497.txt  \n",
            "  inflating: spectrogram/136094.txt  \n",
            "  inflating: spectrogram/068852.txt  \n",
            "  inflating: spectrogram/014584.txt  \n",
            "  inflating: spectrogram/114538.txt  \n",
            "  inflating: spectrogram/083791.txt  \n",
            "  inflating: spectrogram/068898.txt  \n",
            "  inflating: spectrogram/121314.txt  \n",
            "  inflating: spectrogram/079990.txt  \n",
            "  inflating: spectrogram/129972.txt  \n",
            "  inflating: spectrogram/070425.txt  \n",
            "  inflating: spectrogram/000709.txt  \n",
            "  inflating: spectrogram/125680.txt  \n",
            "  inflating: spectrogram/122077.txt  \n",
            "  inflating: spectrogram/010387.txt  \n",
            "  inflating: spectrogram/120307.txt  \n",
            "  inflating: spectrogram/084817.txt  \n",
            "  inflating: spectrogram/052951.txt  \n",
            "  inflating: spectrogram/028692.txt  \n",
            "  inflating: spectrogram/057371.txt  \n",
            "  inflating: spectrogram/038361.txt  \n",
            "  inflating: spectrogram/081565.txt  \n",
            "  inflating: spectrogram/051301.txt  \n",
            "  inflating: spectrogram/120776.txt  \n",
            "  inflating: spectrogram/107188.txt  \n",
            "  inflating: spectrogram/126292.txt  \n",
            "  inflating: spectrogram/127865.txt  \n",
            "  inflating: spectrogram/132790.txt  \n",
            "  inflating: spectrogram/089815.txt  \n",
            "  inflating: spectrogram/091315.txt  \n",
            "  inflating: spectrogram/084056.txt  \n",
            "  inflating: spectrogram/003537.txt  \n",
            "  inflating: spectrogram/075441.txt  \n",
            "  inflating: spectrogram/106948.txt  \n",
            "  inflating: spectrogram/108865.txt  \n",
            "  inflating: spectrogram/141290.txt  \n",
            "  inflating: spectrogram/006519.txt  \n",
            "  inflating: spectrogram/148032.txt  \n",
            "  inflating: spectrogram/121930.txt  \n",
            "  inflating: spectrogram/093522.txt  \n",
            "  inflating: spectrogram/125617.txt  \n",
            "  inflating: spectrogram/095725.txt  \n",
            "  inflating: spectrogram/027981.txt  \n",
            "  inflating: spectrogram/023016.txt  \n",
            "  inflating: spectrogram/035199.txt  \n",
            "  inflating: spectrogram/097215.txt  \n",
            "  inflating: spectrogram/079985.txt  \n",
            "  inflating: spectrogram/105119.txt  \n",
            "  inflating: spectrogram/124184.txt  \n",
            "  inflating: spectrogram/050272.txt  \n",
            "  inflating: spectrogram/099261.txt  \n",
            "  inflating: spectrogram/062337.txt  \n",
            "  inflating: spectrogram/130758.txt  \n",
            "  inflating: spectrogram/079575.txt  \n",
            "  inflating: spectrogram/138320.txt  \n",
            "  inflating: spectrogram/129400.txt  \n",
            "  inflating: spectrogram/073519.txt  \n",
            "  inflating: spectrogram/068356.txt  \n",
            "  inflating: spectrogram/148586.txt  \n",
            "  inflating: spectrogram/067359.txt  \n",
            "  inflating: spectrogram/080836.txt  \n",
            "  inflating: spectrogram/006610.txt  \n",
            "  inflating: spectrogram/004092.txt  \n",
            "  inflating: spectrogram/025795.txt  \n",
            "  inflating: spectrogram/064787.txt  \n",
            "  inflating: spectrogram/145754.txt  \n",
            "  inflating: spectrogram/146968.txt  \n",
            "  inflating: spectrogram/049039.txt  \n",
            "  inflating: spectrogram/110774.txt  \n",
            "  inflating: spectrogram/052036.txt  \n",
            "  inflating: spectrogram/052861.txt  \n",
            "  inflating: spectrogram/142358.txt  \n",
            "  inflating: spectrogram/123760.txt  \n",
            "  inflating: spectrogram/142361.txt  \n",
            "  inflating: spectrogram/054433.txt  \n",
            "  inflating: spectrogram/146481.txt  \n",
            "  inflating: spectrogram/067764.txt  \n",
            "  inflating: spectrogram/015464.txt  \n",
            "  inflating: spectrogram/092292.txt  \n",
            "  inflating: spectrogram/004777.txt  \n",
            "  inflating: spectrogram/097697.txt  \n",
            "  inflating: spectrogram/142670.txt  \n",
            "  inflating: spectrogram/122088.txt  \n",
            "  inflating: spectrogram/139770.txt  \n",
            "  inflating: spectrogram/093981.txt  \n",
            "  inflating: spectrogram/069203.txt  \n",
            "  inflating: spectrogram/086634.txt  \n",
            "  inflating: spectrogram/114942.txt  \n",
            "  inflating: spectrogram/094415.txt  \n",
            "  inflating: spectrogram/055241.txt  \n",
            "  inflating: spectrogram/053157.txt  \n",
            "  inflating: spectrogram/068410.txt  \n",
            "  inflating: spectrogram/122359.txt  \n",
            "  inflating: spectrogram/123458.txt  \n",
            "  inflating: spectrogram/134979.txt  \n",
            "  inflating: spectrogram/052129.txt  \n",
            "  inflating: spectrogram/127206.txt  \n",
            "  inflating: spectrogram/006393.txt  \n",
            "  inflating: spectrogram/014738.txt  \n",
            "  inflating: spectrogram/125185.txt  \n",
            "  inflating: spectrogram/131410.txt  \n",
            "  inflating: spectrogram/043699.txt  \n",
            "  inflating: spectrogram/148516.txt  \n",
            "  inflating: spectrogram/056247.txt  \n",
            "  inflating: spectrogram/117630.txt  \n",
            "  inflating: spectrogram/073776.txt  \n",
            "  inflating: spectrogram/047657.txt  \n",
            "  inflating: spectrogram/000615.txt  \n",
            "  inflating: spectrogram/115273.txt  \n",
            "  inflating: spectrogram/121867.txt  \n",
            "  inflating: spectrogram/008261.txt  \n",
            "  inflating: spectrogram/111385.txt  \n",
            "  inflating: spectrogram/113970.txt  \n",
            "  inflating: spectrogram/056648.txt  \n",
            "  inflating: spectrogram/044794.txt  \n",
            "  inflating: spectrogram/125657.txt  \n",
            "  inflating: spectrogram/139123.txt  \n",
            "  inflating: spectrogram/081084.txt  \n",
            "  inflating: spectrogram/099364.txt  \n",
            "  inflating: spectrogram/011779.txt  \n",
            "  inflating: spectrogram/085310.txt  \n",
            "  inflating: spectrogram/140421.txt  \n",
            "  inflating: spectrogram/055832.txt  \n",
            "  inflating: spectrogram/120468.txt  \n",
            "  inflating: spectrogram/112468.txt  \n",
            "  inflating: spectrogram/114077.txt  \n",
            "  inflating: spectrogram/014735.txt  \n",
            "  inflating: spectrogram/066644.txt  \n",
            "  inflating: spectrogram/108425.txt  \n",
            "  inflating: spectrogram/054155.txt  \n",
            "  inflating: spectrogram/107809.txt  \n",
            "  inflating: spectrogram/114392.txt  \n",
            "  inflating: spectrogram/085346.txt  \n",
            "  inflating: spectrogram/133029.txt  \n",
            "  inflating: spectrogram/045151.txt  \n",
            "  inflating: spectrogram/003274.txt  \n",
            "  inflating: spectrogram/027978.txt  \n",
            "  inflating: spectrogram/127623.txt  \n",
            "  inflating: spectrogram/051991.txt  \n",
            "  inflating: spectrogram/111386.txt  \n",
            "  inflating: spectrogram/146149.txt  \n",
            "  inflating: spectrogram/037147.txt  \n",
            "  inflating: spectrogram/090074.txt  \n",
            "  inflating: spectrogram/114201.txt  \n",
            "  inflating: spectrogram/108866.txt  \n",
            "  inflating: spectrogram/113021.txt  \n",
            "  inflating: spectrogram/122675.txt  \n",
            "  inflating: spectrogram/107425.txt  \n",
            "  inflating: spectrogram/000625.txt  \n",
            "  inflating: spectrogram/145553.txt  \n",
            "  inflating: spectrogram/142085.txt  \n",
            "  inflating: spectrogram/057500.txt  \n",
            "  inflating: spectrogram/017608.txt  \n",
            "  inflating: spectrogram/056471.txt  \n",
            "  inflating: spectrogram/009512.txt  \n",
            "  inflating: spectrogram/137054.txt  \n",
            "  inflating: spectrogram/066637.txt  \n",
            "  inflating: spectrogram/112780.txt  \n",
            "  inflating: spectrogram/073172.txt  \n",
            "  inflating: spectrogram/069211.txt  \n",
            "  inflating: spectrogram/134923.txt  \n",
            "  inflating: spectrogram/053381.txt  \n",
            "  inflating: spectrogram/114938.txt  \n",
            "  inflating: spectrogram/068837.txt  \n",
            "  inflating: spectrogram/044951.txt  \n",
            "  inflating: spectrogram/075755.txt  \n",
            "  inflating: spectrogram/110204.txt  \n",
            "  inflating: spectrogram/107031.txt  \n",
            "  inflating: spectrogram/068854.txt  \n",
            "  inflating: spectrogram/090617.txt  \n",
            "  inflating: spectrogram/075937.txt  \n",
            "  inflating: spectrogram/070174.txt  \n",
            "  inflating: spectrogram/059666.txt  \n",
            "  inflating: spectrogram/045518.txt  \n",
            "  inflating: spectrogram/149714.txt  \n",
            "  inflating: spectrogram/107594.txt  \n",
            "  inflating: spectrogram/056015.txt  \n",
            "  inflating: spectrogram/043843.txt  \n",
            "  inflating: spectrogram/014579.txt  \n",
            "  inflating: spectrogram/126887.txt  \n",
            "  inflating: spectrogram/011262.txt  \n",
            "  inflating: spectrogram/057820.txt  \n",
            "  inflating: spectrogram/121313.txt  \n",
            "  inflating: spectrogram/099437.txt  \n",
            "  inflating: spectrogram/032001.txt  \n",
            "  inflating: spectrogram/053158.txt  \n",
            "  inflating: spectrogram/114049.txt  \n",
            "  inflating: spectrogram/144469.txt  \n",
            "  inflating: spectrogram/121472.txt  \n",
            "  inflating: spectrogram/130135.txt  \n",
            "  inflating: spectrogram/115474.txt  \n",
            "  inflating: spectrogram/064079.txt  \n",
            "  inflating: spectrogram/133632.txt  \n",
            "  inflating: spectrogram/092535.txt  \n",
            "  inflating: spectrogram/080753.txt  \n",
            "  inflating: spectrogram/095231.txt  \n",
            "  inflating: spectrogram/097841.txt  \n",
            "  inflating: spectrogram/155066.txt  \n",
            "  inflating: spectrogram/093918.txt  \n",
            "  inflating: spectrogram/012514.txt  \n",
            "  inflating: spectrogram/114265.txt  \n",
            "  inflating: spectrogram/104062.txt  \n",
            "  inflating: spectrogram/056552.txt  \n",
            "  inflating: spectrogram/114223.txt  \n",
            "  inflating: spectrogram/075390.txt  \n",
            "  inflating: spectrogram/099390.txt  \n",
            "  inflating: spectrogram/114290.txt  \n",
            "  inflating: spectrogram/086724.txt  \n",
            "  inflating: spectrogram/052953.txt  \n",
            "  inflating: spectrogram/060535.txt  \n",
            "  inflating: spectrogram/054365.txt  \n",
            "  inflating: spectrogram/097037.txt  \n",
            "  inflating: spectrogram/094038.txt  \n",
            "  inflating: spectrogram/087191.txt  \n",
            "  inflating: spectrogram/108879.txt  \n",
            "  inflating: spectrogram/125002.txt  \n",
            "  inflating: spectrogram/138406.txt  \n",
            "  inflating: spectrogram/064618.txt  \n",
            "  inflating: spectrogram/040234.txt  \n",
            "  inflating: spectrogram/037538.txt  \n",
            "  inflating: spectrogram/051785.txt  \n",
            "  inflating: spectrogram/120316.txt  \n",
            "  inflating: spectrogram/120333.txt  \n",
            "  inflating: spectrogram/139663.txt  \n",
            "  inflating: spectrogram/044782.txt  \n",
            "  inflating: spectrogram/118196.txt  \n",
            "  inflating: spectrogram/049029.txt  \n",
            "  inflating: spectrogram/061010.txt  \n",
            "  inflating: spectrogram/067362.txt  \n",
            "  inflating: spectrogram/066390.txt  \n",
            "  inflating: spectrogram/105196.txt  \n",
            "  inflating: spectrogram/046058.txt  \n",
            "  inflating: spectrogram/014809.txt  \n",
            "  inflating: spectrogram/149623.txt  \n",
            "  inflating: spectrogram/069202.txt  \n",
            "  inflating: spectrogram/053586.txt  \n",
            "  inflating: spectrogram/133436.txt  \n",
            "  inflating: spectrogram/006390.txt  \n",
            "  inflating: spectrogram/047865.txt  \n",
            "  inflating: spectrogram/154305.txt  \n",
            "  inflating: spectrogram/096936.txt  \n",
            "  inflating: spectrogram/003763.txt  \n",
            "  inflating: spectrogram/113030.txt  \n",
            "  inflating: spectrogram/073175.txt  \n",
            "  inflating: spectrogram/016745.txt  \n",
            "  inflating: spectrogram/110546.txt  \n",
            "  inflating: spectrogram/114237.txt  \n",
            "  inflating: spectrogram/069567.txt  \n",
            "  inflating: spectrogram/012350.txt  \n",
            "  inflating: spectrogram/139637.txt  \n",
            "  inflating: spectrogram/064538.txt  \n",
            "  inflating: spectrogram/043592.txt  \n",
            "  inflating: spectrogram/099375.txt  \n",
            "  inflating: spectrogram/118954.txt  \n",
            "  inflating: spectrogram/064989.txt  \n",
            "  inflating: spectrogram/073768.txt  \n",
            "  inflating: spectrogram/099391.txt  \n",
            "  inflating: spectrogram/086443.txt  \n",
            "  inflating: spectrogram/149142.txt  \n",
            "  inflating: spectrogram/060775.txt  \n",
            "  inflating: spectrogram/137907.txt  \n",
            "  inflating: spectrogram/080517.txt  \n",
            "  inflating: spectrogram/035608.txt  \n",
            "  inflating: spectrogram/091312.txt  \n",
            "  inflating: spectrogram/129915.txt  \n",
            "  inflating: spectrogram/030521.txt  \n",
            "  inflating: spectrogram/036261.txt  \n",
            "  inflating: spectrogram/133431.txt  \n",
            "  inflating: spectrogram/108313.txt  \n",
            "  inflating: spectrogram/112483.txt  \n",
            "  inflating: spectrogram/100479.txt  \n",
            "  inflating: spectrogram/109535.txt  \n",
            "  inflating: spectrogram/066538.txt  \n",
            "  inflating: spectrogram/072146.txt  \n",
            "  inflating: spectrogram/011773.txt  \n",
            "  inflating: spectrogram/099371.txt  \n",
            "  inflating: spectrogram/068909.txt  \n",
            "  inflating: spectrogram/054666.txt  \n",
            "  inflating: spectrogram/011795.txt  \n",
            "  inflating: spectrogram/082630.txt  \n",
            "  inflating: spectrogram/118478.txt  \n",
            "  inflating: spectrogram/073773.txt  \n",
            "  inflating: spectrogram/107616.txt  \n",
            "  inflating: spectrogram/096946.txt  \n",
            "  inflating: spectrogram/075787.txt  \n",
            "  inflating: spectrogram/046718.txt  \n",
            "  inflating: spectrogram/042375.txt  \n",
            "  inflating: spectrogram/048466.txt  \n",
            "  inflating: spectrogram/011682.txt  \n",
            "  inflating: spectrogram/147886.txt  \n",
            "  inflating: spectrogram/081895.txt  \n",
            "  inflating: spectrogram/026652.txt  \n",
            "  inflating: spectrogram/081586.txt  \n",
            "  inflating: spectrogram/072069.txt  \n",
            "  inflating: spectrogram/152569.txt  \n",
            "  inflating: spectrogram/121654.txt  \n",
            "  inflating: spectrogram/054234.txt  \n",
            "  inflating: spectrogram/047197.txt  \n",
            "  inflating: spectrogram/094101.txt  \n",
            "  inflating: spectrogram/129904.txt  \n",
            "  inflating: spectrogram/062533.txt  \n",
            "  inflating: spectrogram/110771.txt  \n",
            "  inflating: spectrogram/075432.txt  \n",
            "  inflating: spectrogram/033992.txt  \n",
            "  inflating: spectrogram/085487.txt  \n",
            "  inflating: spectrogram/032438.txt  \n",
            "  inflating: spectrogram/110636.txt  \n",
            "  inflating: spectrogram/071250.txt  \n",
            "  inflating: spectrogram/120303.txt  \n",
            "  inflating: spectrogram/075786.txt  \n",
            "  inflating: spectrogram/131919.txt  \n",
            "  inflating: spectrogram/035535.txt  \n",
            "  inflating: spectrogram/133562.txt  \n",
            "  inflating: spectrogram/063208.txt  \n",
            "  inflating: spectrogram/010682.txt  \n",
            "  inflating: spectrogram/114385.txt  \n",
            "  inflating: spectrogram/113950.txt  \n",
            "  inflating: spectrogram/115697.txt  \n",
            "  inflating: spectrogram/066717.txt  \n",
            "  inflating: spectrogram/107020.txt  \n",
            "  inflating: spectrogram/040147.txt  \n",
            "  inflating: spectrogram/129393.txt  \n",
            "  inflating: spectrogram/053578.txt  \n",
            "  inflating: spectrogram/093704.txt  \n",
            "  inflating: spectrogram/083439.txt  \n",
            "  inflating: spectrogram/019459.txt  \n",
            "  inflating: spectrogram/130951.txt  \n",
            "  inflating: spectrogram/114541.txt  \n",
            "  inflating: spectrogram/057442.txt  \n",
            "  inflating: spectrogram/014604.txt  \n",
            "  inflating: spectrogram/098251.txt  \n",
            "  inflating: spectrogram/127469.txt  \n",
            "  inflating: spectrogram/136705.txt  \n",
            "  inflating: spectrogram/128760.txt  \n",
            "  inflating: spectrogram/014568.txt  \n",
            "  inflating: spectrogram/126185.txt  \n",
            "  inflating: spectrogram/021167.txt  \n",
            "  inflating: spectrogram/115813.txt  \n",
            "  inflating: spectrogram/096742.txt  \n",
            "  inflating: spectrogram/068893.txt  \n",
            "  inflating: spectrogram/112065.txt  \n",
            "  inflating: spectrogram/138069.txt  \n",
            "  inflating: spectrogram/097545.txt  \n",
            "  inflating: spectrogram/086441.txt  \n",
            "  inflating: spectrogram/108302.txt  \n",
            "  inflating: spectrogram/001649.txt  \n",
            "  inflating: spectrogram/100544.txt  \n",
            "  inflating: spectrogram/118504.txt  \n",
            "  inflating: spectrogram/076437.txt  \n",
            "  inflating: spectrogram/011780.txt  \n",
            "  inflating: spectrogram/116237.txt  \n",
            "  inflating: spectrogram/149778.txt  \n",
            "  inflating: spectrogram/081814.txt  \n",
            "  inflating: spectrogram/134941.txt  \n",
            "  inflating: spectrogram/111149.txt  \n",
            "  inflating: spectrogram/126519.txt  \n",
            "  inflating: spectrogram/059673.txt  \n",
            "  inflating: spectrogram/038399.txt  \n",
            "  inflating: spectrogram/000777.txt  \n",
            "  inflating: spectrogram/121651.txt  \n",
            "  inflating: spectrogram/131791.txt  \n",
            "  inflating: spectrogram/110440.txt  \n",
            "  inflating: spectrogram/057540.txt  \n",
            "  inflating: spectrogram/105142.txt  \n",
            "  inflating: spectrogram/134455.txt  \n",
            "  inflating: spectrogram/025063.txt  \n",
            "  inflating: spectrogram/125621.txt  \n",
            "  inflating: spectrogram/065619.txt  \n",
            "  inflating: spectrogram/036275.txt  \n",
            "  inflating: spectrogram/024371.txt  \n",
            "  inflating: spectrogram/073343.txt  \n",
            "  inflating: spectrogram/137168.txt  \n",
            "  inflating: spectrogram/143307.txt  \n",
            "  inflating: spectrogram/024983.txt  \n",
            "  inflating: spectrogram/004236.txt  \n",
            "  inflating: spectrogram/075418.txt  \n",
            "  inflating: spectrogram/052001.txt  \n",
            "  inflating: spectrogram/131911.txt  \n",
            "  inflating: spectrogram/144542.txt  \n",
            "  inflating: spectrogram/121473.txt  \n",
            "  inflating: spectrogram/048763.txt  \n",
            "  inflating: spectrogram/130134.txt  \n",
            "  inflating: spectrogram/024426.txt  \n",
            "  inflating: spectrogram/084154.txt  \n",
            "  inflating: spectrogram/001193.txt  \n",
            "  inflating: spectrogram/003761.txt  \n",
            "  inflating: spectrogram/142087.txt  \n",
            "  inflating: spectrogram/130963.txt  \n",
            "  inflating: spectrogram/011200.txt  \n",
            "  inflating: spectrogram/128666.txt  \n",
            "  inflating: spectrogram/003776.txt  \n",
            "  inflating: spectrogram/048488.txt  \n",
            "  inflating: spectrogram/132561.txt  \n",
            "  inflating: spectrogram/126294.txt  \n",
            "  inflating: spectrogram/110103.txt  \n",
            "  inflating: spectrogram/059660.txt  \n",
            "  inflating: spectrogram/127662.txt  \n",
            "  inflating: spectrogram/036277.txt  \n",
            "  inflating: spectrogram/083613.txt  \n",
            "  inflating: spectrogram/076654.txt  \n",
            "  inflating: spectrogram/072074.txt  \n",
            "  inflating: spectrogram/112485.txt  \n",
            "  inflating: spectrogram/114544.txt  \n",
            "  inflating: spectrogram/021403.txt  \n",
            "  inflating: spectrogram/038906.txt  \n",
            "  inflating: spectrogram/050447.txt  \n",
            "  inflating: spectrogram/083440.txt  \n",
            "  inflating: spectrogram/059702.txt  \n",
            "  inflating: spectrogram/066690.txt  \n",
            "  inflating: spectrogram/141901.txt  \n",
            "  inflating: spectrogram/105824.txt  \n",
            "  inflating: spectrogram/045390.txt  \n",
            "  inflating: spectrogram/003913.txt  \n",
            "  inflating: spectrogram/125286.txt  \n",
            "  inflating: spectrogram/003896.txt  \n",
            "  inflating: spectrogram/087153.txt  \n",
            "  inflating: spectrogram/010668.txt  \n",
            "  inflating: spectrogram/075310.txt  \n",
            "  inflating: spectrogram/129886.txt  \n",
            "  inflating: spectrogram/124393.txt  \n",
            "  inflating: spectrogram/143306.txt  \n",
            "  inflating: spectrogram/087100.txt  \n",
            "  inflating: spectrogram/058162.txt  \n",
            "  inflating: spectrogram/108846.txt  \n",
            "  inflating: spectrogram/013709.txt  \n",
            "  inflating: spectrogram/091205.txt  \n",
            "  inflating: spectrogram/021997.txt  \n",
            "  inflating: spectrogram/066075.txt  \n",
            "  inflating: spectrogram/074371.txt  \n",
            "  inflating: spectrogram/115850.txt  \n",
            "  inflating: spectrogram/148070.txt  \n",
            "  inflating: spectrogram/039259.txt  \n",
            "  inflating: spectrogram/126588.txt  \n",
            "  inflating: spectrogram/024427.txt  \n",
            "  inflating: spectrogram/114391.txt  \n",
            "  inflating: spectrogram/014363.txt  \n",
            "  inflating: spectrogram/056468.txt  \n",
            "  inflating: spectrogram/052628.txt  \n",
            "  inflating: spectrogram/120296.txt  \n",
            "  inflating: spectrogram/059725.txt  \n",
            "  inflating: spectrogram/098625.txt  \n",
            "  inflating: spectrogram/126055.txt  \n",
            "  inflating: spectrogram/148218.txt  \n",
            "  inflating: spectrogram/012053.txt  \n",
            "  inflating: spectrogram/045149.txt  \n",
            "  inflating: spectrogram/001087.txt  \n",
            "  inflating: spectrogram/132961.txt  \n",
            "  inflating: spectrogram/129924.txt  \n",
            "  inflating: spectrogram/040239.txt  \n",
            "  inflating: spectrogram/114272.txt  \n",
            "  inflating: spectrogram/075782.txt  \n",
            "  inflating: spectrogram/113511.txt  \n",
            "  inflating: spectrogram/011862.txt  \n",
            "  inflating: spectrogram/091083.txt  \n",
            "  inflating: spectrogram/110086.txt  \n",
            "  inflating: spectrogram/133567.txt  \n",
            "  inflating: spectrogram/032075.txt  \n",
            "  inflating: spectrogram/005170.txt  \n",
            "  inflating: spectrogram/129053.txt  \n",
            "  inflating: spectrogram/014358.txt  \n",
            "  inflating: spectrogram/054163.txt  \n",
            "  inflating: spectrogram/054149.txt  \n",
            "  inflating: spectrogram/030682.txt  \n",
            "  inflating: spectrogram/120300.txt  \n",
            "  inflating: spectrogram/072136.txt  \n",
            "  inflating: spectrogram/012059.txt  \n",
            "  inflating: spectrogram/032338.txt  \n",
            "  inflating: spectrogram/125776.txt  \n",
            "  inflating: spectrogram/063755.txt  \n",
            "  inflating: spectrogram/138306.txt  \n",
            "  inflating: spectrogram/001925.txt  \n",
            "  inflating: spectrogram/080696.txt  \n",
            "  inflating: spectrogram/061736.txt  \n",
            "  inflating: spectrogram/052375.txt  \n",
            "  inflating: spectrogram/138213.txt  \n",
            "  inflating: spectrogram/112198.txt  \n",
            "  inflating: spectrogram/115597.txt  \n",
            "  inflating: spectrogram/079087.txt  \n",
            "  inflating: spectrogram/114064.txt  \n",
            "  inflating: spectrogram/105915.txt  \n",
            "  inflating: spectrogram/011785.txt  \n",
            "  inflating: spectrogram/038363.txt  \n",
            "  inflating: spectrogram/003766.txt  \n",
            "  inflating: spectrogram/059663.txt  \n",
            "  inflating: spectrogram/061452.txt  \n",
            "  inflating: spectrogram/071694.txt  \n",
            "  inflating: spectrogram/142672.txt  \n",
            "  inflating: spectrogram/105450.txt  \n",
            "  inflating: spectrogram/141168.txt  \n",
            "  inflating: spectrogram/063257.txt  \n",
            "  inflating: spectrogram/120771.txt  \n",
            "  inflating: spectrogram/109235.txt  \n",
            "  inflating: spectrogram/091619.txt  \n",
            "  inflating: spectrogram/064789.txt  \n",
            "  inflating: spectrogram/113972.txt  \n",
            "  inflating: spectrogram/007483.txt  \n",
            "  inflating: spectrogram/124755.txt  \n",
            "  inflating: spectrogram/026640.txt  \n",
            "  inflating: spectrogram/133802.txt  \n",
            "  inflating: spectrogram/032331.txt  \n",
            "  inflating: spectrogram/137426.txt  \n",
            "  inflating: spectrogram/115292.txt  \n",
            "  inflating: spectrogram/056805.txt  \n",
            "  inflating: spectrogram/121452.txt  \n",
            "  inflating: spectrogram/105712.txt  \n",
            "  inflating: spectrogram/022472.txt  \n",
            "  inflating: spectrogram/047835.txt  \n",
            "  inflating: spectrogram/144944.txt  \n",
            "  inflating: spectrogram/121738.txt  \n",
            "  inflating: spectrogram/062591.txt  \n",
            "  inflating: spectrogram/130950.txt  \n",
            "  inflating: spectrogram/020376.txt  \n",
            "  inflating: spectrogram/071691.txt  \n",
            "  inflating: spectrogram/089196.txt  \n",
            "  inflating: spectrogram/125375.txt  \n",
            "  inflating: spectrogram/084097.txt  \n",
            "  inflating: spectrogram/133449.txt  \n",
            "  inflating: spectrogram/110772.txt  \n",
            "  inflating: spectrogram/128878.txt  \n",
            "  inflating: spectrogram/109971.txt  \n",
            "  inflating: spectrogram/004511.txt  \n",
            "  inflating: spectrogram/056650.txt  \n",
            "  inflating: spectrogram/138063.txt  \n",
            "  inflating: spectrogram/074375.txt  \n",
            "  inflating: spectrogram/126214.txt  \n",
            "  inflating: spectrogram/069784.txt  \n",
            "  inflating: spectrogram/011778.txt  \n",
            "  inflating: spectrogram/014391.txt  \n",
            "  inflating: spectrogram/133456.txt  \n",
            "  inflating: spectrogram/038557.txt  \n",
            "  inflating: spectrogram/091471.txt  \n",
            "  inflating: spectrogram/071372.txt  \n",
            "  inflating: spectrogram/108491.txt  \n",
            "  inflating: spectrogram/002099.txt  \n",
            "  inflating: spectrogram/011771.txt  \n",
            "  inflating: spectrogram/058061.txt  \n",
            "  inflating: spectrogram/122910.txt  \n",
            "  inflating: spectrogram/126317.txt  \n",
            "  inflating: spectrogram/129372.txt  \n",
            "  inflating: spectrogram/123968.txt  \n",
            "  inflating: spectrogram/115922.txt  \n",
            "  inflating: spectrogram/006360.txt  \n",
            "  inflating: spectrogram/052859.txt  \n",
            "  inflating: spectrogram/067357.txt  \n",
            "  inflating: spectrogram/125239.txt  \n",
            "  inflating: spectrogram/115766.txt  \n",
            "  inflating: spectrogram/076130.txt  \n",
            "  inflating: spectrogram/084057.txt  \n",
            "  inflating: spectrogram/112486.txt  \n",
            "  inflating: spectrogram/150267.txt  \n",
            "  inflating: spectrogram/000207.txt  \n",
            "  inflating: spectrogram/114283.txt  \n",
            "  inflating: spectrogram/019891.txt  \n",
            "  inflating: spectrogram/149687.txt  \n",
            "  inflating: spectrogram/088959.txt  \n",
            "  inflating: spectrogram/080000.txt  \n",
            "  inflating: spectrogram/122624.txt  \n",
            "  inflating: spectrogram/066058.txt  \n",
            "  inflating: spectrogram/085422.txt  \n",
            "  inflating: spectrogram/025378.txt  \n",
            "  inflating: spectrogram/112977.txt  \n",
            "  inflating: spectrogram/062452.txt  \n",
            "  inflating: spectrogram/108306.txt  \n",
            "  inflating: spectrogram/064517.txt  \n",
            "  inflating: spectrogram/066469.txt  \n",
            "  inflating: spectrogram/039291.txt  \n",
            "  inflating: spectrogram/059679.txt  \n",
            "  inflating: spectrogram/144940.txt  \n",
            "  inflating: spectrogram/069791.txt  \n",
            "  inflating: spectrogram/006609.txt  \n",
            "  inflating: spectrogram/116452.txt  \n",
            "  inflating: spectrogram/085427.txt  \n",
            "  inflating: spectrogram/072789.txt  \n",
            "  inflating: spectrogram/116455.txt  \n",
            "  inflating: spectrogram/146018.txt  \n",
            "  inflating: spectrogram/099442.txt  \n",
            "  inflating: spectrogram/069824.txt  \n",
            "  inflating: spectrogram/041020.txt  \n",
            "  inflating: spectrogram/107178.txt  \n",
            "  inflating: spectrogram/085967.txt  \n",
            "  inflating: spectrogram/125817.txt  \n",
            "  inflating: spectrogram/127159.txt  \n",
            "  inflating: spectrogram/137716.txt  \n",
            "  inflating: spectrogram/117160.txt  \n",
            "  inflating: spectrogram/089639.txt  \n",
            "  inflating: spectrogram/143057.txt  \n",
            "  inflating: spectrogram/108025.txt  \n",
            "  inflating: spectrogram/014569.txt  \n",
            "  inflating: spectrogram/086721.txt  \n",
            "  inflating: spectrogram/067597.txt  \n",
            "  inflating: spectrogram/126243.txt  \n",
            "  inflating: spectrogram/003720.txt  \n",
            "  inflating: spectrogram/000707.txt  \n",
            "  inflating: spectrogram/119379.txt  \n",
            "  inflating: spectrogram/119584.txt  \n",
            "  inflating: spectrogram/130934.txt  \n",
            "  inflating: spectrogram/141875.txt  \n",
            "  inflating: spectrogram/062749.txt  \n",
            "  inflating: spectrogram/036659.txt  \n",
            "  inflating: spectrogram/052639.txt  \n",
            "  inflating: spectrogram/054442.txt  \n",
            "  inflating: spectrogram/008256.txt  \n",
            "  inflating: spectrogram/148510.txt  \n",
            "  inflating: spectrogram/144942.txt  \n",
            "  inflating: spectrogram/020432.txt  \n",
            "  inflating: spectrogram/125827.txt  \n",
            "  inflating: spectrogram/045125.txt  \n",
            "  inflating: spectrogram/148303.txt  \n",
            "  inflating: spectrogram/138024.txt  \n",
            "  inflating: spectrogram/063770.txt  \n",
            "  inflating: spectrogram/064333.txt  \n",
            "  inflating: spectrogram/073100.txt  \n",
            "  inflating: spectrogram/011544.txt  \n",
            "  inflating: spectrogram/052448.txt  \n",
            "  inflating: spectrogram/108502.txt  \n",
            "  inflating: spectrogram/130920.txt  \n",
            "  inflating: spectrogram/126229.txt  \n",
            "  inflating: spectrogram/016995.txt  \n",
            "  inflating: spectrogram/010678.txt  \n",
            "  inflating: spectrogram/034510.txt  \n",
            "  inflating: spectrogram/085594.txt  \n",
            "  inflating: spectrogram/136275.txt  \n",
            "  inflating: spectrogram/058341.txt  \n",
            "  inflating: spectrogram/115925.txt  \n",
            "  inflating: spectrogram/011793.txt  \n",
            "  inflating: spectrogram/060045.txt  \n",
            "  inflating: spectrogram/004094.txt  \n",
            "  inflating: spectrogram/078516.txt  \n",
            "  inflating: spectrogram/006762.txt  \n",
            "  inflating: spectrogram/057892.txt  \n",
            "  inflating: spectrogram/029040.txt  \n",
            "  inflating: spectrogram/108503.txt  \n",
            "  inflating: spectrogram/126505.txt  \n",
            "  inflating: spectrogram/065685.txt  \n",
            "  inflating: spectrogram/112587.txt  \n",
            "  inflating: spectrogram/139935.txt  \n",
            "  inflating: spectrogram/023155.txt  \n",
            "  inflating: spectrogram/107913.txt  \n",
            "  inflating: spectrogram/116870.txt  \n",
            "  inflating: spectrogram/100552.txt  \n",
            "  inflating: spectrogram/063470.txt  \n",
            "  inflating: spectrogram/006372.txt  \n",
            "  inflating: spectrogram/038779.txt  \n",
            "  inflating: spectrogram/138040.txt  \n",
            "  inflating: spectrogram/050539.txt  \n",
            "  inflating: spectrogram/044781.txt  \n",
            "  inflating: spectrogram/150288.txt  \n",
            " extracting: spectrogram/Icon        \n"
          ],
          "name": "stdout"
        }
      ]
    },
    {
      "metadata": {
        "id": "LQlBAah9zoxq",
        "colab_type": "code",
        "outputId": "86b0d619-a373-40ed-cf60-b247e0e6cfa2",
        "colab": {
          "base_uri": "https://localhost:8080/",
          "height": 34
        }
      },
      "cell_type": "code",
      "source": [
        "len(os.listdir('spectrogram'))"
      ],
      "execution_count": 0,
      "outputs": [
        {
          "output_type": "execute_result",
          "data": {
            "text/plain": [
              "1001"
            ]
          },
          "metadata": {
            "tags": []
          },
          "execution_count": 4
        }
      ]
    },
    {
      "metadata": {
        "id": "WFr75H4o0G3y",
        "colab_type": "code",
        "outputId": "37aa1574-2a22-46c8-f0b4-c811a0861bb3",
        "colab": {
          "base_uri": "https://localhost:8080/",
          "height": 34
        }
      },
      "cell_type": "code",
      "source": [
        "os.listdir('spectrogram')[0][:5]"
      ],
      "execution_count": 0,
      "outputs": [
        {
          "output_type": "execute_result",
          "data": {
            "text/plain": [
              "'14129'"
            ]
          },
          "metadata": {
            "tags": []
          },
          "execution_count": 6
        }
      ]
    },
    {
      "metadata": {
        "id": "v5iwrI9Hzt33",
        "colab_type": "text"
      },
      "cell_type": "markdown",
      "source": [
        "There is one extra file that appeared during the process and that we couldn't really get rid of before, so let's remove it now."
      ]
    },
    {
      "metadata": {
        "id": "tZU0QbO7z7vi",
        "colab_type": "code",
        "colab": {}
      },
      "cell_type": "code",
      "source": [
        "for file_name in os.listdir('spectrogram'):\n",
        "  if file_name[-4:] != \".txt\": # Remove the one file that does not have a .txt extension\n",
        "    os.remove('spectrogram/' + file_name)"
      ],
      "execution_count": 0,
      "outputs": []
    },
    {
      "metadata": {
        "id": "uYFDwIQa0Orc",
        "colab_type": "code",
        "outputId": "6a509e01-ef0a-4df0-dca8-8b4532ab8d71",
        "colab": {
          "base_uri": "https://localhost:8080/",
          "height": 34
        }
      },
      "cell_type": "code",
      "source": [
        "len(os.listdir('spectrogram'))"
      ],
      "execution_count": 0,
      "outputs": [
        {
          "output_type": "execute_result",
          "data": {
            "text/plain": [
              "1000"
            ]
          },
          "metadata": {
            "tags": []
          },
          "execution_count": 8
        }
      ]
    },
    {
      "metadata": {
        "id": "Y4QJVT1x0Qqk",
        "colab_type": "text"
      },
      "cell_type": "markdown",
      "source": [
        "Everything is in order: we can now import every text file in Numpy again."
      ]
    },
    {
      "metadata": {
        "id": "mqWs1kE17IKL",
        "colab_type": "code",
        "colab": {}
      },
      "cell_type": "code",
      "source": [
        "small_tracks = pd.read_csv('small_tracks.csv')"
      ],
      "execution_count": 0,
      "outputs": []
    },
    {
      "metadata": {
        "id": "KRPAxGLYXPD1",
        "colab_type": "code",
        "outputId": "cc49e11b-bf0b-4f55-a222-8055258b6b94",
        "colab": {
          "base_uri": "https://localhost:8080/",
          "height": 1882
        }
      },
      "cell_type": "code",
      "source": [
        "small_tracks[:-5]"
      ],
      "execution_count": 0,
      "outputs": [
        {
          "output_type": "execute_result",
          "data": {
            "text/html": [
              "<div>\n",
              "<style scoped>\n",
              "    .dataframe tbody tr th:only-of-type {\n",
              "        vertical-align: middle;\n",
              "    }\n",
              "\n",
              "    .dataframe tbody tr th {\n",
              "        vertical-align: top;\n",
              "    }\n",
              "\n",
              "    .dataframe thead th {\n",
              "        text-align: right;\n",
              "    }\n",
              "</style>\n",
              "<table border=\"1\" class=\"dataframe\">\n",
              "  <thead>\n",
              "    <tr style=\"text-align: right;\">\n",
              "      <th></th>\n",
              "      <th>track_id</th>\n",
              "      <th>genres</th>\n",
              "      <th>file_name</th>\n",
              "    </tr>\n",
              "  </thead>\n",
              "  <tbody>\n",
              "    <tr>\n",
              "      <th>0</th>\n",
              "      <td>2</td>\n",
              "      <td>Hip-Hop</td>\n",
              "      <td>000/000002.mp3</td>\n",
              "    </tr>\n",
              "    <tr>\n",
              "      <th>1</th>\n",
              "      <td>5</td>\n",
              "      <td>Hip-Hop</td>\n",
              "      <td>000/000005.mp3</td>\n",
              "    </tr>\n",
              "    <tr>\n",
              "      <th>2</th>\n",
              "      <td>10</td>\n",
              "      <td>Pop</td>\n",
              "      <td>000/000010.mp3</td>\n",
              "    </tr>\n",
              "    <tr>\n",
              "      <th>3</th>\n",
              "      <td>140</td>\n",
              "      <td>Folk</td>\n",
              "      <td>000/000140.mp3</td>\n",
              "    </tr>\n",
              "    <tr>\n",
              "      <th>4</th>\n",
              "      <td>141</td>\n",
              "      <td>Folk</td>\n",
              "      <td>000/000141.mp3</td>\n",
              "    </tr>\n",
              "    <tr>\n",
              "      <th>5</th>\n",
              "      <td>148</td>\n",
              "      <td>Experimental</td>\n",
              "      <td>000/000148.mp3</td>\n",
              "    </tr>\n",
              "    <tr>\n",
              "      <th>6</th>\n",
              "      <td>182</td>\n",
              "      <td>Rock</td>\n",
              "      <td>000/000182.mp3</td>\n",
              "    </tr>\n",
              "    <tr>\n",
              "      <th>7</th>\n",
              "      <td>190</td>\n",
              "      <td>Folk</td>\n",
              "      <td>000/000190.mp3</td>\n",
              "    </tr>\n",
              "    <tr>\n",
              "      <th>8</th>\n",
              "      <td>193</td>\n",
              "      <td>Folk</td>\n",
              "      <td>000/000193.mp3</td>\n",
              "    </tr>\n",
              "    <tr>\n",
              "      <th>9</th>\n",
              "      <td>194</td>\n",
              "      <td>Folk</td>\n",
              "      <td>000/000194.mp3</td>\n",
              "    </tr>\n",
              "    <tr>\n",
              "      <th>10</th>\n",
              "      <td>197</td>\n",
              "      <td>Folk</td>\n",
              "      <td>000/000197.mp3</td>\n",
              "    </tr>\n",
              "    <tr>\n",
              "      <th>11</th>\n",
              "      <td>200</td>\n",
              "      <td>Folk</td>\n",
              "      <td>000/000200.mp3</td>\n",
              "    </tr>\n",
              "    <tr>\n",
              "      <th>12</th>\n",
              "      <td>203</td>\n",
              "      <td>Folk</td>\n",
              "      <td>000/000203.mp3</td>\n",
              "    </tr>\n",
              "    <tr>\n",
              "      <th>13</th>\n",
              "      <td>204</td>\n",
              "      <td>Folk</td>\n",
              "      <td>000/000204.mp3</td>\n",
              "    </tr>\n",
              "    <tr>\n",
              "      <th>14</th>\n",
              "      <td>207</td>\n",
              "      <td>Folk</td>\n",
              "      <td>000/000207.mp3</td>\n",
              "    </tr>\n",
              "    <tr>\n",
              "      <th>15</th>\n",
              "      <td>210</td>\n",
              "      <td>Folk</td>\n",
              "      <td>000/000210.mp3</td>\n",
              "    </tr>\n",
              "    <tr>\n",
              "      <th>16</th>\n",
              "      <td>211</td>\n",
              "      <td>Folk</td>\n",
              "      <td>000/000211.mp3</td>\n",
              "    </tr>\n",
              "    <tr>\n",
              "      <th>17</th>\n",
              "      <td>212</td>\n",
              "      <td>Folk</td>\n",
              "      <td>000/000212.mp3</td>\n",
              "    </tr>\n",
              "    <tr>\n",
              "      <th>18</th>\n",
              "      <td>213</td>\n",
              "      <td>Pop</td>\n",
              "      <td>000/000213.mp3</td>\n",
              "    </tr>\n",
              "    <tr>\n",
              "      <th>19</th>\n",
              "      <td>255</td>\n",
              "      <td>Rock</td>\n",
              "      <td>000/000255.mp3</td>\n",
              "    </tr>\n",
              "    <tr>\n",
              "      <th>20</th>\n",
              "      <td>256</td>\n",
              "      <td>Rock</td>\n",
              "      <td>000/000256.mp3</td>\n",
              "    </tr>\n",
              "    <tr>\n",
              "      <th>21</th>\n",
              "      <td>368</td>\n",
              "      <td>Rock</td>\n",
              "      <td>000/000368.mp3</td>\n",
              "    </tr>\n",
              "    <tr>\n",
              "      <th>22</th>\n",
              "      <td>424</td>\n",
              "      <td>Experimental</td>\n",
              "      <td>000/000424.mp3</td>\n",
              "    </tr>\n",
              "    <tr>\n",
              "      <th>23</th>\n",
              "      <td>459</td>\n",
              "      <td>Rock</td>\n",
              "      <td>000/000459.mp3</td>\n",
              "    </tr>\n",
              "    <tr>\n",
              "      <th>24</th>\n",
              "      <td>534</td>\n",
              "      <td>Folk</td>\n",
              "      <td>000/000534.mp3</td>\n",
              "    </tr>\n",
              "    <tr>\n",
              "      <th>25</th>\n",
              "      <td>540</td>\n",
              "      <td>Folk</td>\n",
              "      <td>000/000540.mp3</td>\n",
              "    </tr>\n",
              "    <tr>\n",
              "      <th>26</th>\n",
              "      <td>546</td>\n",
              "      <td>Folk</td>\n",
              "      <td>000/000546.mp3</td>\n",
              "    </tr>\n",
              "    <tr>\n",
              "      <th>27</th>\n",
              "      <td>574</td>\n",
              "      <td>Rock</td>\n",
              "      <td>000/000574.mp3</td>\n",
              "    </tr>\n",
              "    <tr>\n",
              "      <th>28</th>\n",
              "      <td>602</td>\n",
              "      <td>Folk</td>\n",
              "      <td>000/000602.mp3</td>\n",
              "    </tr>\n",
              "    <tr>\n",
              "      <th>29</th>\n",
              "      <td>615</td>\n",
              "      <td>Experimental</td>\n",
              "      <td>000/000615.mp3</td>\n",
              "    </tr>\n",
              "    <tr>\n",
              "      <th>...</th>\n",
              "      <td>...</td>\n",
              "      <td>...</td>\n",
              "      <td>...</td>\n",
              "    </tr>\n",
              "    <tr>\n",
              "      <th>7965</th>\n",
              "      <td>150267</td>\n",
              "      <td>Instrumental</td>\n",
              "      <td>150/150267.mp3</td>\n",
              "    </tr>\n",
              "    <tr>\n",
              "      <th>7966</th>\n",
              "      <td>150268</td>\n",
              "      <td>Instrumental</td>\n",
              "      <td>150/150268.mp3</td>\n",
              "    </tr>\n",
              "    <tr>\n",
              "      <th>7967</th>\n",
              "      <td>150287</td>\n",
              "      <td>Hip-Hop</td>\n",
              "      <td>150/150287.mp3</td>\n",
              "    </tr>\n",
              "    <tr>\n",
              "      <th>7968</th>\n",
              "      <td>150288</td>\n",
              "      <td>Hip-Hop</td>\n",
              "      <td>150/150288.mp3</td>\n",
              "    </tr>\n",
              "    <tr>\n",
              "      <th>7969</th>\n",
              "      <td>151404</td>\n",
              "      <td>Electronic</td>\n",
              "      <td>151/151404.mp3</td>\n",
              "    </tr>\n",
              "    <tr>\n",
              "      <th>7970</th>\n",
              "      <td>152103</td>\n",
              "      <td>International</td>\n",
              "      <td>152/152103.mp3</td>\n",
              "    </tr>\n",
              "    <tr>\n",
              "      <th>7971</th>\n",
              "      <td>152253</td>\n",
              "      <td>International</td>\n",
              "      <td>152/152253.mp3</td>\n",
              "    </tr>\n",
              "    <tr>\n",
              "      <th>7972</th>\n",
              "      <td>152254</td>\n",
              "      <td>International</td>\n",
              "      <td>152/152254.mp3</td>\n",
              "    </tr>\n",
              "    <tr>\n",
              "      <th>7973</th>\n",
              "      <td>152258</td>\n",
              "      <td>International</td>\n",
              "      <td>152/152258.mp3</td>\n",
              "    </tr>\n",
              "    <tr>\n",
              "      <th>7974</th>\n",
              "      <td>152261</td>\n",
              "      <td>International</td>\n",
              "      <td>152/152261.mp3</td>\n",
              "    </tr>\n",
              "    <tr>\n",
              "      <th>7975</th>\n",
              "      <td>152262</td>\n",
              "      <td>International</td>\n",
              "      <td>152/152262.mp3</td>\n",
              "    </tr>\n",
              "    <tr>\n",
              "      <th>7976</th>\n",
              "      <td>152324</td>\n",
              "      <td>Pop</td>\n",
              "      <td>152/152324.mp3</td>\n",
              "    </tr>\n",
              "    <tr>\n",
              "      <th>7977</th>\n",
              "      <td>152418</td>\n",
              "      <td>International</td>\n",
              "      <td>152/152418.mp3</td>\n",
              "    </tr>\n",
              "    <tr>\n",
              "      <th>7978</th>\n",
              "      <td>152425</td>\n",
              "      <td>International</td>\n",
              "      <td>152/152425.mp3</td>\n",
              "    </tr>\n",
              "    <tr>\n",
              "      <th>7979</th>\n",
              "      <td>152480</td>\n",
              "      <td>Instrumental</td>\n",
              "      <td>152/152480.mp3</td>\n",
              "    </tr>\n",
              "    <tr>\n",
              "      <th>7980</th>\n",
              "      <td>152543</td>\n",
              "      <td>Hip-Hop</td>\n",
              "      <td>152/152543.mp3</td>\n",
              "    </tr>\n",
              "    <tr>\n",
              "      <th>7981</th>\n",
              "      <td>152545</td>\n",
              "      <td>Hip-Hop</td>\n",
              "      <td>152/152545.mp3</td>\n",
              "    </tr>\n",
              "    <tr>\n",
              "      <th>7982</th>\n",
              "      <td>152568</td>\n",
              "      <td>Instrumental</td>\n",
              "      <td>152/152568.mp3</td>\n",
              "    </tr>\n",
              "    <tr>\n",
              "      <th>7983</th>\n",
              "      <td>152569</td>\n",
              "      <td>Instrumental</td>\n",
              "      <td>152/152569.mp3</td>\n",
              "    </tr>\n",
              "    <tr>\n",
              "      <th>7984</th>\n",
              "      <td>152570</td>\n",
              "      <td>Instrumental</td>\n",
              "      <td>152/152570.mp3</td>\n",
              "    </tr>\n",
              "    <tr>\n",
              "      <th>7985</th>\n",
              "      <td>153337</td>\n",
              "      <td>Hip-Hop</td>\n",
              "      <td>153/153337.mp3</td>\n",
              "    </tr>\n",
              "    <tr>\n",
              "      <th>7986</th>\n",
              "      <td>153383</td>\n",
              "      <td>Pop</td>\n",
              "      <td>153/153383.mp3</td>\n",
              "    </tr>\n",
              "    <tr>\n",
              "      <th>7987</th>\n",
              "      <td>153452</td>\n",
              "      <td>Pop</td>\n",
              "      <td>153/153452.mp3</td>\n",
              "    </tr>\n",
              "    <tr>\n",
              "      <th>7988</th>\n",
              "      <td>153946</td>\n",
              "      <td>Folk</td>\n",
              "      <td>153/153946.mp3</td>\n",
              "    </tr>\n",
              "    <tr>\n",
              "      <th>7989</th>\n",
              "      <td>153955</td>\n",
              "      <td>Pop</td>\n",
              "      <td>153/153955.mp3</td>\n",
              "    </tr>\n",
              "    <tr>\n",
              "      <th>7990</th>\n",
              "      <td>153956</td>\n",
              "      <td>Pop</td>\n",
              "      <td>153/153956.mp3</td>\n",
              "    </tr>\n",
              "    <tr>\n",
              "      <th>7991</th>\n",
              "      <td>154303</td>\n",
              "      <td>Hip-Hop</td>\n",
              "      <td>154/154303.mp3</td>\n",
              "    </tr>\n",
              "    <tr>\n",
              "      <th>7992</th>\n",
              "      <td>154305</td>\n",
              "      <td>Hip-Hop</td>\n",
              "      <td>154/154305.mp3</td>\n",
              "    </tr>\n",
              "    <tr>\n",
              "      <th>7993</th>\n",
              "      <td>154306</td>\n",
              "      <td>Hip-Hop</td>\n",
              "      <td>154/154306.mp3</td>\n",
              "    </tr>\n",
              "    <tr>\n",
              "      <th>7994</th>\n",
              "      <td>154307</td>\n",
              "      <td>Hip-Hop</td>\n",
              "      <td>154/154307.mp3</td>\n",
              "    </tr>\n",
              "  </tbody>\n",
              "</table>\n",
              "<p>7995 rows × 3 columns</p>\n",
              "</div>"
            ],
            "text/plain": [
              "      track_id         genres       file_name\n",
              "0            2        Hip-Hop  000/000002.mp3\n",
              "1            5        Hip-Hop  000/000005.mp3\n",
              "2           10            Pop  000/000010.mp3\n",
              "3          140           Folk  000/000140.mp3\n",
              "4          141           Folk  000/000141.mp3\n",
              "5          148   Experimental  000/000148.mp3\n",
              "6          182           Rock  000/000182.mp3\n",
              "7          190           Folk  000/000190.mp3\n",
              "8          193           Folk  000/000193.mp3\n",
              "9          194           Folk  000/000194.mp3\n",
              "10         197           Folk  000/000197.mp3\n",
              "11         200           Folk  000/000200.mp3\n",
              "12         203           Folk  000/000203.mp3\n",
              "13         204           Folk  000/000204.mp3\n",
              "14         207           Folk  000/000207.mp3\n",
              "15         210           Folk  000/000210.mp3\n",
              "16         211           Folk  000/000211.mp3\n",
              "17         212           Folk  000/000212.mp3\n",
              "18         213            Pop  000/000213.mp3\n",
              "19         255           Rock  000/000255.mp3\n",
              "20         256           Rock  000/000256.mp3\n",
              "21         368           Rock  000/000368.mp3\n",
              "22         424   Experimental  000/000424.mp3\n",
              "23         459           Rock  000/000459.mp3\n",
              "24         534           Folk  000/000534.mp3\n",
              "25         540           Folk  000/000540.mp3\n",
              "26         546           Folk  000/000546.mp3\n",
              "27         574           Rock  000/000574.mp3\n",
              "28         602           Folk  000/000602.mp3\n",
              "29         615   Experimental  000/000615.mp3\n",
              "...        ...            ...             ...\n",
              "7965    150267   Instrumental  150/150267.mp3\n",
              "7966    150268   Instrumental  150/150268.mp3\n",
              "7967    150287        Hip-Hop  150/150287.mp3\n",
              "7968    150288        Hip-Hop  150/150288.mp3\n",
              "7969    151404     Electronic  151/151404.mp3\n",
              "7970    152103  International  152/152103.mp3\n",
              "7971    152253  International  152/152253.mp3\n",
              "7972    152254  International  152/152254.mp3\n",
              "7973    152258  International  152/152258.mp3\n",
              "7974    152261  International  152/152261.mp3\n",
              "7975    152262  International  152/152262.mp3\n",
              "7976    152324            Pop  152/152324.mp3\n",
              "7977    152418  International  152/152418.mp3\n",
              "7978    152425  International  152/152425.mp3\n",
              "7979    152480   Instrumental  152/152480.mp3\n",
              "7980    152543        Hip-Hop  152/152543.mp3\n",
              "7981    152545        Hip-Hop  152/152545.mp3\n",
              "7982    152568   Instrumental  152/152568.mp3\n",
              "7983    152569   Instrumental  152/152569.mp3\n",
              "7984    152570   Instrumental  152/152570.mp3\n",
              "7985    153337        Hip-Hop  153/153337.mp3\n",
              "7986    153383            Pop  153/153383.mp3\n",
              "7987    153452            Pop  153/153452.mp3\n",
              "7988    153946           Folk  153/153946.mp3\n",
              "7989    153955            Pop  153/153955.mp3\n",
              "7990    153956            Pop  153/153956.mp3\n",
              "7991    154303        Hip-Hop  154/154303.mp3\n",
              "7992    154305        Hip-Hop  154/154305.mp3\n",
              "7993    154306        Hip-Hop  154/154306.mp3\n",
              "7994    154307        Hip-Hop  154/154307.mp3\n",
              "\n",
              "[7995 rows x 3 columns]"
            ]
          },
          "metadata": {
            "tags": []
          },
          "execution_count": 28
        }
      ]
    },
    {
      "metadata": {
        "id": "m4rhKGU_ae4S",
        "colab_type": "code",
        "outputId": "c939b031-cb5f-4a65-8893-1a35a06241eb",
        "colab": {
          "base_uri": "https://localhost:8080/",
          "height": 50
        }
      },
      "cell_type": "code",
      "source": [
        "small_tracks.loc[small_tracks['file_name'] == '000/000002.mp3']['genres']"
      ],
      "execution_count": 0,
      "outputs": [
        {
          "output_type": "execute_result",
          "data": {
            "text/plain": [
              "0    Hip-Hop\n",
              "Name: genres, dtype: object"
            ]
          },
          "metadata": {
            "tags": []
          },
          "execution_count": 27
        }
      ]
    },
    {
      "metadata": {
        "id": "gGnh410IZ2lB",
        "colab_type": "code",
        "outputId": "44b75524-b58e-4418-a5b0-7eb1c4c5bf03",
        "colab": {
          "base_uri": "https://localhost:8080/",
          "height": 34
        }
      },
      "cell_type": "code",
      "source": [
        "file_name_test = os.listdir('spectrogram')[:5]\n",
        "print(file_name_test)"
      ],
      "execution_count": 0,
      "outputs": [
        {
          "output_type": "stream",
          "text": [
            "['141290.txt', '014579.txt', '066075.txt', '064989.txt', '092556.txt']\n"
          ],
          "name": "stdout"
        }
      ]
    },
    {
      "metadata": {
        "id": "x86OdAXybmTV",
        "colab_type": "code",
        "outputId": "4fc5384b-375a-450e-8195-9d9c9a6268ce",
        "colab": {
          "base_uri": "https://localhost:8080/",
          "height": 34
        }
      },
      "cell_type": "code",
      "source": [
        "test = file_name_test[0][:3]+'/'+file_name_test[0][:-4]+'.mp3'\n",
        "testx = np.loadtxt('spectrogram/'+file_name_test[0])\n",
        "testx = np.asarray(testx)\n",
        "np.asarray(np.hsplit(testx,10)).shape"
      ],
      "execution_count": 0,
      "outputs": [
        {
          "output_type": "execute_result",
          "data": {
            "text/plain": [
              "(10, 64, 258)"
            ]
          },
          "metadata": {
            "tags": []
          },
          "execution_count": 148
        }
      ]
    },
    {
      "metadata": {
        "id": "h7O8H5myeG9h",
        "colab_type": "code",
        "outputId": "84022f48-49a9-43c6-df34-985c1678c9d9",
        "colab": {
          "base_uri": "https://localhost:8080/",
          "height": 34
        }
      },
      "cell_type": "code",
      "source": [
        "small_tracks.genres = small_tracks.genres.astype(str)\n",
        "type(small_tracks.loc[small_tracks['file_name'] == test,'genres'].item())"
      ],
      "execution_count": 0,
      "outputs": [
        {
          "output_type": "execute_result",
          "data": {
            "text/plain": [
              "str"
            ]
          },
          "metadata": {
            "tags": []
          },
          "execution_count": 69
        }
      ]
    },
    {
      "metadata": {
        "id": "Qkh-jv9kgiRo",
        "colab_type": "code",
        "outputId": "b3262bf2-2f37-4a9e-b4bc-476d4db0eb2a",
        "colab": {
          "base_uri": "https://localhost:8080/",
          "height": 34
        }
      },
      "cell_type": "code",
      "source": [
        "\n",
        "type(small_tracks.loc[small_tracks['file_name'] == test].genres)"
      ],
      "execution_count": 0,
      "outputs": [
        {
          "output_type": "execute_result",
          "data": {
            "text/plain": [
              "pandas.core.series.Series"
            ]
          },
          "metadata": {
            "tags": []
          },
          "execution_count": 63
        }
      ]
    },
    {
      "metadata": {
        "id": "xXaa6zCQY94N",
        "colab_type": "text"
      },
      "cell_type": "markdown",
      "source": [
        "#### nparray, i like array!"
      ]
    },
    {
      "metadata": {
        "id": "Ku97aI-RXSkD",
        "colab_type": "code",
        "outputId": "981105a8-e614-464b-cb2a-790701f4b1fd",
        "colab": {
          "base_uri": "https://localhost:8080/",
          "height": 34
        }
      },
      "cell_type": "code",
      "source": [
        "import time\n",
        "\n",
        "start_time = time.time()\n",
        "\n",
        "X = [] #list of 1000 arrays (64*2580) \n",
        "G = [] #list of 1000 labels in 8 classes\n",
        "N = [] #list of 1000 names \n",
        "\n",
        "for file_name in os.listdir('spectrogram'):\n",
        "  X.append(np.loadtxt('spectrogram/%s' % file_name)) \n",
        "  N.append(file_name[:-4])\n",
        "  file_name_track = file_name[:3]+'/'+file_name[:-4]+'.mp3'\n",
        "  G.append(small_tracks.loc[small_tracks['file_name'] == file_name_track,'genres'].item())\n",
        "\n",
        "X = np.asarray(X)\n",
        "G = np.asarray(G,dtype=str)\n",
        "N = np.asarray(N)\n",
        "\n",
        "print('Time lapsed: %f' % (time.time() - start_time))"
      ],
      "execution_count": 0,
      "outputs": [
        {
          "output_type": "stream",
          "text": [
            "Time lapsed: 154.265432\n"
          ],
          "name": "stdout"
        }
      ]
    },
    {
      "metadata": {
        "id": "9VqRhQWke9do",
        "colab_type": "code",
        "colab": {}
      },
      "cell_type": "code",
      "source": [
        "np.savez_compressed(\"mel_label.npz\", X=X, G=G, N=N)"
      ],
      "execution_count": 0,
      "outputs": []
    },
    {
      "metadata": {
        "id": "rr5tzADNqR3f",
        "colab_type": "text"
      },
      "cell_type": "markdown",
      "source": [
        "#### load the npz file\n"
      ]
    },
    {
      "metadata": {
        "id": "1DsY52F-XcYf",
        "colab_type": "code",
        "outputId": "e43f74bd-936d-48ed-d9fd-a2d15f1b55ac",
        "colab": {
          "base_uri": "https://localhost:8080/",
          "height": 955
        }
      },
      "cell_type": "code",
      "source": [
        "#load the npz file \n",
        "st = time.time()\n",
        "data = np.load(\"mel_label.npz\")\n",
        "X = data[\"X\"]\n",
        "G = data[\"G\"]\n",
        "N = data[\"N\"]\n",
        "loading_time = time.time() - st\n",
        "print(\"Loading takes %f seconds.\" % (loading_time))"
      ],
      "execution_count": 0,
      "outputs": [
        {
          "output_type": "error",
          "ename": "BadZipFile",
          "evalue": "ignored",
          "traceback": [
            "\u001b[0;31m---------------------------------------------------------------------------\u001b[0m",
            "\u001b[0;31mBadZipFile\u001b[0m                                Traceback (most recent call last)",
            "\u001b[0;32m<ipython-input-5-c7bc486edc1d>\u001b[0m in \u001b[0;36m<module>\u001b[0;34m()\u001b[0m\n\u001b[1;32m      1\u001b[0m \u001b[0mst\u001b[0m \u001b[0;34m=\u001b[0m \u001b[0mtime\u001b[0m\u001b[0;34m.\u001b[0m\u001b[0mtime\u001b[0m\u001b[0;34m(\u001b[0m\u001b[0;34m)\u001b[0m\u001b[0;34m\u001b[0m\u001b[0m\n\u001b[0;32m----> 2\u001b[0;31m \u001b[0mdata\u001b[0m \u001b[0;34m=\u001b[0m \u001b[0mnp\u001b[0m\u001b[0;34m.\u001b[0m\u001b[0mload\u001b[0m\u001b[0;34m(\u001b[0m\u001b[0;34m\"mel_label.npz\"\u001b[0m\u001b[0;34m)\u001b[0m\u001b[0;34m\u001b[0m\u001b[0m\n\u001b[0m\u001b[1;32m      3\u001b[0m \u001b[0mX\u001b[0m \u001b[0;34m=\u001b[0m \u001b[0mdata\u001b[0m\u001b[0;34m[\u001b[0m\u001b[0;34m\"X\"\u001b[0m\u001b[0;34m]\u001b[0m\u001b[0;34m\u001b[0m\u001b[0m\n\u001b[1;32m      4\u001b[0m \u001b[0mG\u001b[0m \u001b[0;34m=\u001b[0m \u001b[0mdata\u001b[0m\u001b[0;34m[\u001b[0m\u001b[0;34m\"G\"\u001b[0m\u001b[0;34m]\u001b[0m\u001b[0;34m\u001b[0m\u001b[0m\n\u001b[1;32m      5\u001b[0m \u001b[0mN\u001b[0m \u001b[0;34m=\u001b[0m \u001b[0mdata\u001b[0m\u001b[0;34m[\u001b[0m\u001b[0;34m\"N\"\u001b[0m\u001b[0;34m]\u001b[0m\u001b[0;34m\u001b[0m\u001b[0m\n",
            "\u001b[0;32m/usr/local/lib/python3.6/dist-packages/numpy/lib/npyio.py\u001b[0m in \u001b[0;36mload\u001b[0;34m(file, mmap_mode, allow_pickle, fix_imports, encoding)\u001b[0m\n\u001b[1;32m    412\u001b[0m             \u001b[0mown_fid\u001b[0m \u001b[0;34m=\u001b[0m \u001b[0;32mFalse\u001b[0m\u001b[0;34m\u001b[0m\u001b[0m\n\u001b[1;32m    413\u001b[0m             return NpzFile(fid, own_fid=tmp, allow_pickle=allow_pickle,\n\u001b[0;32m--> 414\u001b[0;31m                            pickle_kwargs=pickle_kwargs)\n\u001b[0m\u001b[1;32m    415\u001b[0m         \u001b[0;32melif\u001b[0m \u001b[0mmagic\u001b[0m \u001b[0;34m==\u001b[0m \u001b[0mformat\u001b[0m\u001b[0;34m.\u001b[0m\u001b[0mMAGIC_PREFIX\u001b[0m\u001b[0;34m:\u001b[0m\u001b[0;34m\u001b[0m\u001b[0m\n\u001b[1;32m    416\u001b[0m             \u001b[0;31m# .npy file\u001b[0m\u001b[0;34m\u001b[0m\u001b[0;34m\u001b[0m\u001b[0m\n",
            "\u001b[0;32m/usr/local/lib/python3.6/dist-packages/numpy/lib/npyio.py\u001b[0m in \u001b[0;36m__init__\u001b[0;34m(self, fid, own_fid, allow_pickle, pickle_kwargs)\u001b[0m\n\u001b[1;32m    171\u001b[0m         \u001b[0;31m# Import is postponed to here since zipfile depends on gzip, an\u001b[0m\u001b[0;34m\u001b[0m\u001b[0;34m\u001b[0m\u001b[0m\n\u001b[1;32m    172\u001b[0m         \u001b[0;31m# optional component of the so-called standard library.\u001b[0m\u001b[0;34m\u001b[0m\u001b[0;34m\u001b[0m\u001b[0m\n\u001b[0;32m--> 173\u001b[0;31m         \u001b[0m_zip\u001b[0m \u001b[0;34m=\u001b[0m \u001b[0mzipfile_factory\u001b[0m\u001b[0;34m(\u001b[0m\u001b[0mfid\u001b[0m\u001b[0;34m)\u001b[0m\u001b[0;34m\u001b[0m\u001b[0m\n\u001b[0m\u001b[1;32m    174\u001b[0m         \u001b[0mself\u001b[0m\u001b[0;34m.\u001b[0m\u001b[0m_files\u001b[0m \u001b[0;34m=\u001b[0m \u001b[0m_zip\u001b[0m\u001b[0;34m.\u001b[0m\u001b[0mnamelist\u001b[0m\u001b[0;34m(\u001b[0m\u001b[0;34m)\u001b[0m\u001b[0;34m\u001b[0m\u001b[0m\n\u001b[1;32m    175\u001b[0m         \u001b[0mself\u001b[0m\u001b[0;34m.\u001b[0m\u001b[0mfiles\u001b[0m \u001b[0;34m=\u001b[0m \u001b[0;34m[\u001b[0m\u001b[0;34m]\u001b[0m\u001b[0;34m\u001b[0m\u001b[0m\n",
            "\u001b[0;32m/usr/local/lib/python3.6/dist-packages/numpy/lib/npyio.py\u001b[0m in \u001b[0;36mzipfile_factory\u001b[0;34m(file, *args, **kwargs)\u001b[0m\n\u001b[1;32m    101\u001b[0m     \u001b[0;32mimport\u001b[0m \u001b[0mzipfile\u001b[0m\u001b[0;34m\u001b[0m\u001b[0m\n\u001b[1;32m    102\u001b[0m     \u001b[0mkwargs\u001b[0m\u001b[0;34m[\u001b[0m\u001b[0;34m'allowZip64'\u001b[0m\u001b[0;34m]\u001b[0m \u001b[0;34m=\u001b[0m \u001b[0;32mTrue\u001b[0m\u001b[0;34m\u001b[0m\u001b[0m\n\u001b[0;32m--> 103\u001b[0;31m     \u001b[0;32mreturn\u001b[0m \u001b[0mzipfile\u001b[0m\u001b[0;34m.\u001b[0m\u001b[0mZipFile\u001b[0m\u001b[0;34m(\u001b[0m\u001b[0mfile\u001b[0m\u001b[0;34m,\u001b[0m \u001b[0;34m*\u001b[0m\u001b[0margs\u001b[0m\u001b[0;34m,\u001b[0m \u001b[0;34m**\u001b[0m\u001b[0mkwargs\u001b[0m\u001b[0;34m)\u001b[0m\u001b[0;34m\u001b[0m\u001b[0m\n\u001b[0m\u001b[1;32m    104\u001b[0m \u001b[0;34m\u001b[0m\u001b[0m\n\u001b[1;32m    105\u001b[0m \u001b[0;34m\u001b[0m\u001b[0m\n",
            "\u001b[0;32m/usr/lib/python3.6/zipfile.py\u001b[0m in \u001b[0;36m__init__\u001b[0;34m(self, file, mode, compression, allowZip64)\u001b[0m\n\u001b[1;32m   1106\u001b[0m         \u001b[0;32mtry\u001b[0m\u001b[0;34m:\u001b[0m\u001b[0;34m\u001b[0m\u001b[0m\n\u001b[1;32m   1107\u001b[0m             \u001b[0;32mif\u001b[0m \u001b[0mmode\u001b[0m \u001b[0;34m==\u001b[0m \u001b[0;34m'r'\u001b[0m\u001b[0;34m:\u001b[0m\u001b[0;34m\u001b[0m\u001b[0m\n\u001b[0;32m-> 1108\u001b[0;31m                 \u001b[0mself\u001b[0m\u001b[0;34m.\u001b[0m\u001b[0m_RealGetContents\u001b[0m\u001b[0;34m(\u001b[0m\u001b[0;34m)\u001b[0m\u001b[0;34m\u001b[0m\u001b[0m\n\u001b[0m\u001b[1;32m   1109\u001b[0m             \u001b[0;32melif\u001b[0m \u001b[0mmode\u001b[0m \u001b[0;32min\u001b[0m \u001b[0;34m(\u001b[0m\u001b[0;34m'w'\u001b[0m\u001b[0;34m,\u001b[0m \u001b[0;34m'x'\u001b[0m\u001b[0;34m)\u001b[0m\u001b[0;34m:\u001b[0m\u001b[0;34m\u001b[0m\u001b[0m\n\u001b[1;32m   1110\u001b[0m                 \u001b[0;31m# set the modified flag so central directory gets written\u001b[0m\u001b[0;34m\u001b[0m\u001b[0;34m\u001b[0m\u001b[0m\n",
            "\u001b[0;32m/usr/lib/python3.6/zipfile.py\u001b[0m in \u001b[0;36m_RealGetContents\u001b[0;34m(self)\u001b[0m\n\u001b[1;32m   1173\u001b[0m             \u001b[0;32mraise\u001b[0m \u001b[0mBadZipFile\u001b[0m\u001b[0;34m(\u001b[0m\u001b[0;34m\"File is not a zip file\"\u001b[0m\u001b[0;34m)\u001b[0m\u001b[0;34m\u001b[0m\u001b[0m\n\u001b[1;32m   1174\u001b[0m         \u001b[0;32mif\u001b[0m \u001b[0;32mnot\u001b[0m \u001b[0mendrec\u001b[0m\u001b[0;34m:\u001b[0m\u001b[0;34m\u001b[0m\u001b[0m\n\u001b[0;32m-> 1175\u001b[0;31m             \u001b[0;32mraise\u001b[0m \u001b[0mBadZipFile\u001b[0m\u001b[0;34m(\u001b[0m\u001b[0;34m\"File is not a zip file\"\u001b[0m\u001b[0;34m)\u001b[0m\u001b[0;34m\u001b[0m\u001b[0m\n\u001b[0m\u001b[1;32m   1176\u001b[0m         \u001b[0;32mif\u001b[0m \u001b[0mself\u001b[0m\u001b[0;34m.\u001b[0m\u001b[0mdebug\u001b[0m \u001b[0;34m>\u001b[0m \u001b[0;36m1\u001b[0m\u001b[0;34m:\u001b[0m\u001b[0;34m\u001b[0m\u001b[0m\n\u001b[1;32m   1177\u001b[0m             \u001b[0mprint\u001b[0m\u001b[0;34m(\u001b[0m\u001b[0mendrec\u001b[0m\u001b[0;34m)\u001b[0m\u001b[0;34m\u001b[0m\u001b[0m\n",
            "\u001b[0;31mBadZipFile\u001b[0m: File is not a zip file"
          ]
        },
        {
          "output_type": "stream",
          "text": [
            "Exception ignored in: <bound method NpzFile.__del__ of <numpy.lib.npyio.NpzFile object at 0x7f01c83f6470>>\n",
            "Traceback (most recent call last):\n",
            "  File \"/usr/local/lib/python3.6/dist-packages/numpy/lib/npyio.py\", line 210, in __del__\n",
            "    self.close()\n",
            "  File \"/usr/local/lib/python3.6/dist-packages/numpy/lib/npyio.py\", line 201, in close\n",
            "    if self.zip is not None:\n",
            "AttributeError: 'NpzFile' object has no attribute 'zip'\n"
          ],
          "name": "stderr"
        }
      ]
    },
    {
      "metadata": {
        "id": "MfiDxI9YemDx",
        "colab_type": "code",
        "outputId": "37d894b5-3704-4f97-a96d-7c42045e4e81",
        "colab": {
          "base_uri": "https://localhost:8080/",
          "height": 34
        }
      },
      "cell_type": "code",
      "source": [
        "# Use log transformation to preserve the order but shrink the range\n",
        "X = np.log(X + 1)\n",
        "X.shape"
      ],
      "execution_count": 0,
      "outputs": [
        {
          "output_type": "execute_result",
          "data": {
            "text/plain": [
              "(1000, 64, 2580)"
            ]
          },
          "metadata": {
            "tags": []
          },
          "execution_count": 11
        }
      ]
    },
    {
      "metadata": {
        "id": "tLO4LWFoqrLn",
        "colab_type": "code",
        "outputId": "7e3b867c-9427-42d1-81cd-879d7346af52",
        "colab": {
          "base_uri": "https://localhost:8080/",
          "height": 34
        }
      },
      "cell_type": "code",
      "source": [
        "X.shape, G.shape"
      ],
      "execution_count": 0,
      "outputs": [
        {
          "output_type": "execute_result",
          "data": {
            "text/plain": [
              "((1000, 64, 2580, 1), (1000,))"
            ]
          },
          "metadata": {
            "tags": []
          },
          "execution_count": 83
        }
      ]
    },
    {
      "metadata": {
        "id": "Q_jBlYyJrgH1",
        "colab_type": "code",
        "outputId": "0cc78774-4266-4464-cd9b-170bc357c947",
        "colab": {
          "base_uri": "https://localhost:8080/",
          "height": 34
        }
      },
      "cell_type": "code",
      "source": [
        "from keras.utils import np_utils"
      ],
      "execution_count": 0,
      "outputs": [
        {
          "output_type": "stream",
          "text": [
            "Using TensorFlow backend.\n"
          ],
          "name": "stderr"
        }
      ]
    },
    {
      "metadata": {
        "id": "ZwPrePONqzq6",
        "colab_type": "code",
        "colab": {}
      },
      "cell_type": "code",
      "source": [
        "# convert string type labels to vectors\n",
        "genres = np.unique(G)\n",
        "genres_dict = dict([[label, value] for value, label in enumerate(genres)])\n",
        "G_numeric = np.asarray([genres_dict[label] for label in G])\n",
        "G_vectorized = np_utils.to_categorical(G_numeric)"
      ],
      "execution_count": 0,
      "outputs": []
    },
    {
      "metadata": {
        "id": "y23gTB-yvjWk",
        "colab_type": "text"
      },
      "cell_type": "markdown",
      "source": [
        "#### Split dataset into train, test, validation 7:2:1"
      ]
    },
    {
      "metadata": {
        "id": "d-n-TpNi7OZ8",
        "colab_type": "code",
        "colab": {}
      },
      "cell_type": "code",
      "source": [
        "from torch.utils.data import Dataset\n",
        "from torch.utils.data.sampler import SubsetRandomSampler\n",
        "from torch.utils.data.sampler import SubsetRandomSampler\n"
      ],
      "execution_count": 0,
      "outputs": []
    },
    {
      "metadata": {
        "id": "AW4Katqs90IO",
        "colab_type": "code",
        "outputId": "062b7a04-366c-40ce-8c60-4016c1983b9b",
        "colab": {
          "base_uri": "https://localhost:8080/",
          "height": 34
        }
      },
      "cell_type": "code",
      "source": [
        "X[1].shape, G_vectorized[1].shape"
      ],
      "execution_count": 0,
      "outputs": [
        {
          "output_type": "execute_result",
          "data": {
            "text/plain": [
              "((64, 2580), (8,))"
            ]
          },
          "metadata": {
            "tags": []
          },
          "execution_count": 181
        }
      ]
    },
    {
      "metadata": {
        "id": "X8gHB1lW7uDt",
        "colab_type": "code",
        "colab": {}
      },
      "cell_type": "code",
      "source": [
        "num_train  =  len(X) \n",
        "#split 7:2:1 for train: valid: test\n",
        "vali_size = 0.2\n",
        "test_size = 0.1\n",
        "indices = list(range(num_train))"
      ],
      "execution_count": 0,
      "outputs": []
    },
    {
      "metadata": {
        "id": "2rAcBa2N9akQ",
        "colab_type": "code",
        "colab": {}
      },
      "cell_type": "code",
      "source": [
        "validation_idx = np.random.choice(indices, size=int(vali_size*num_train), replace=False)\n",
        "test_idx = np.random.choice(list(set(indices) - set(validation_idx)), size=int(test_size*num_train), replace=False)\n",
        "train_idx = list(set(indices) - set(validation_idx)-set(test_idx))"
      ],
      "execution_count": 0,
      "outputs": []
    },
    {
      "metadata": {
        "id": "4bCsuXFAD-hL",
        "colab_type": "code",
        "colab": {}
      },
      "cell_type": "code",
      "source": [
        "#We use dataloader instead of this one \n",
        "training_X = X[train_idx]\n",
        "validation_X = X[validation_idx]\n",
        "testing_X = X[test_idx]\n",
        "\n",
        "training_G = G_vectorized[train_idx]\n",
        "validation_G = G_vectorized[validation_idx]\n",
        "testing_G = G_vectorized[test_idx]"
      ],
      "execution_count": 0,
      "outputs": []
    },
    {
      "metadata": {
        "id": "7wkWfxso8J_5",
        "colab_type": "code",
        "colab": {}
      },
      "cell_type": "code",
      "source": [
        "#combine label and sound to dataset\n",
        "dataset = [[torch.from_numpy(e.astype(np.float32)).unsqueeze(0), torch.from_numpy(G_vectorized.astype(np.int64))] for e in X]"
      ],
      "execution_count": 0,
      "outputs": []
    },
    {
      "metadata": {
        "id": "VUj2dluV-QXU",
        "colab_type": "code",
        "outputId": "ba78501a-6103-42a5-b42d-6ff59b2eefcb",
        "colab": {
          "base_uri": "https://localhost:8080/",
          "height": 34
        }
      },
      "cell_type": "code",
      "source": [
        "dataset[0][0].shape"
      ],
      "execution_count": 0,
      "outputs": [
        {
          "output_type": "execute_result",
          "data": {
            "text/plain": [
              "torch.Size([1, 64, 2580])"
            ]
          },
          "metadata": {
            "tags": []
          },
          "execution_count": 195
        }
      ]
    },
    {
      "metadata": {
        "id": "Q7g3CmGTFjrA",
        "colab_type": "code",
        "colab": {}
      },
      "cell_type": "code",
      "source": [
        "batch_size = 5\n",
        "\n",
        "train_sampler = SubsetRandomSampler(train_idx)\n",
        "validation_sampler = SubsetRandomSampler(validation_idx)\n",
        "test_sampler = SubsetRandomSampler(test_idx)\n",
        "\n",
        "train_loader = torch.utils.data.DataLoader(dataset, \n",
        "                batch_size=batch_size, sampler=train_sampler)\n",
        "validation_loader = torch.utils.data.DataLoader(dataset, \n",
        "                batch_size=batch_size, sampler=validation_sampler)\n",
        "test_loader = torch.utils.data.DataLoader(dataset, \n",
        "                batch_size=batch_size, sampler=test_sampler)\n"
      ],
      "execution_count": 0,
      "outputs": []
    },
    {
      "metadata": {
        "id": "_2TtOdIx4gFt",
        "colab_type": "text"
      },
      "cell_type": "markdown",
      "source": [
        "### Plot to check the dataset, reverse?\n"
      ]
    },
    {
      "metadata": {
        "id": "SaSRAGli3uLi",
        "colab_type": "code",
        "colab": {}
      },
      "cell_type": "code",
      "source": [
        "#default visualize size\n",
        "default_figure_size = (6, 4)\n",
        "sr = 22050 # sampling rate"
      ],
      "execution_count": 0,
      "outputs": []
    },
    {
      "metadata": {
        "id": "a-7B9Cn04v0o",
        "colab_type": "code",
        "outputId": "b5429f79-d45c-48ee-e91e-e77c6bb3fdeb",
        "colab": {
          "base_uri": "https://localhost:8080/",
          "height": 179
        }
      },
      "cell_type": "code",
      "source": [
        "#get some random training arrays \n",
        "dataiter = iter(train_loader)\n",
        "images, labels = dataiter.next()"
      ],
      "execution_count": 0,
      "outputs": [
        {
          "output_type": "error",
          "ename": "NameError",
          "evalue": "ignored",
          "traceback": [
            "\u001b[0;31m---------------------------------------------------------------------------\u001b[0m",
            "\u001b[0;31mNameError\u001b[0m                                 Traceback (most recent call last)",
            "\u001b[0;32m<ipython-input-2-ef49e3308b55>\u001b[0m in \u001b[0;36m<module>\u001b[0;34m()\u001b[0m\n\u001b[0;32m----> 1\u001b[0;31m \u001b[0mdataiter\u001b[0m \u001b[0;34m=\u001b[0m \u001b[0miter\u001b[0m\u001b[0;34m(\u001b[0m\u001b[0mtrain_loader\u001b[0m\u001b[0;34m)\u001b[0m\u001b[0;34m\u001b[0m\u001b[0m\n\u001b[0m\u001b[1;32m      2\u001b[0m \u001b[0mimages\u001b[0m\u001b[0;34m,\u001b[0m \u001b[0mlabels\u001b[0m \u001b[0;34m=\u001b[0m \u001b[0mdataiter\u001b[0m\u001b[0;34m.\u001b[0m\u001b[0mnext\u001b[0m\u001b[0;34m(\u001b[0m\u001b[0;34m)\u001b[0m\u001b[0;34m\u001b[0m\u001b[0m\n",
            "\u001b[0;31mNameError\u001b[0m: name 'train_loader' is not defined"
          ]
        }
      ]
    },
    {
      "metadata": {
        "id": "rOhMo7L6_4GG",
        "colab_type": "code",
        "outputId": "087e319c-c609-484a-8a24-89f5a18e7955",
        "colab": {
          "base_uri": "https://localhost:8080/",
          "height": 162
        }
      },
      "cell_type": "code",
      "source": [
        "images[1].shape"
      ],
      "execution_count": 0,
      "outputs": [
        {
          "output_type": "error",
          "ename": "NameError",
          "evalue": "ignored",
          "traceback": [
            "\u001b[0;31m---------------------------------------------------------------------------\u001b[0m",
            "\u001b[0;31mNameError\u001b[0m                                 Traceback (most recent call last)",
            "\u001b[0;32m<ipython-input-1-15e7731a1744>\u001b[0m in \u001b[0;36m<module>\u001b[0;34m()\u001b[0m\n\u001b[0;32m----> 1\u001b[0;31m \u001b[0mimages\u001b[0m\u001b[0;34m[\u001b[0m\u001b[0;36m1\u001b[0m\u001b[0;34m]\u001b[0m\u001b[0;34m.\u001b[0m\u001b[0mshape\u001b[0m\u001b[0;34m\u001b[0m\u001b[0m\n\u001b[0m",
            "\u001b[0;31mNameError\u001b[0m: name 'images' is not defined"
          ]
        }
      ]
    },
    {
      "metadata": {
        "id": "oWXkSbEu4qu_",
        "colab_type": "code",
        "outputId": "8321ce0b-931a-4504-d4c4-cd9403608a42",
        "colab": {
          "base_uri": "https://localhost:8080/",
          "height": 1121
        }
      },
      "cell_type": "code",
      "source": [
        "for i in range(4):\n",
        "  plt.figure(figsize=(default_figure_size[0]+1, default_figure_size[1]))\n",
        "  plt.imshow(images[i][0], origin=\"lower\", aspect=\"auto\", cmap=\"jet\")\n",
        "  plt.xticks(np.linspace(0, 2580, 7), np.arange(0, 31, 5))\n",
        "  plt.xlabel(\"time (seconds)\"); plt.ylabel(\"mel scale\"); plt.colorbar(); plt.tight_layout()\n",
        "  plt.show()"
      ],
      "execution_count": 0,
      "outputs": [
        {
          "output_type": "display_data",
          "data": {
            "image/png": "[encoded data removed]",
            "text/plain": [
              "<matplotlib.figure.Figure at 0x7fe4d3659550>"
            ]
          },
          "metadata": {
            "tags": []
          }
        },
        {
          "output_type": "display_data",
          "data": {
            "image/png": "[encoded data removed]",
            "text/plain": [
              "<matplotlib.figure.Figure at 0x7fe4d3659b00>"
            ]
          },
          "metadata": {
            "tags": []
          }
        },
        {
          "output_type": "display_data",
          "data": {
            "image/png": "[encoded data removed]",
            "text/plain": [
              "<matplotlib.figure.Figure at 0x7fe4d35c5710>"
            ]
          },
          "metadata": {
            "tags": []
          }
        },
        {
          "output_type": "display_data",
          "data": {
            "image/png": "[encoded data removed]",
            "text/plain": [
              "<matplotlib.figure.Figure at 0x7fe4d0cda6d8>"
            ]
          },
          "metadata": {
            "tags": []
          }
        }
      ]
    },
    {
      "metadata": {
        "id": "otqzFUg3BUa1",
        "colab_type": "text"
      },
      "cell_type": "markdown",
      "source": [
        "So, our dataloader works!"
      ]
    },
    {
      "metadata": {
        "id": "gDRHz-X3orh1",
        "colab_type": "text"
      },
      "cell_type": "markdown",
      "source": [
        "## Train the model\n",
        "- what if not split to 10 parts \n",
        "- training: 700: validation: 200, test:100 \n",
        "- X: (64,2580,1) Y: (8,)  one-hot array "
      ]
    },
    {
      "metadata": {
        "id": "5NPqMSldBtAo",
        "colab_type": "text"
      },
      "cell_type": "markdown",
      "source": [
        "### Define a convolutional Neural Network "
      ]
    },
    {
      "metadata": {
        "id": "XAfO2Q7_F0xI",
        "colab_type": "code",
        "colab": {}
      },
      "cell_type": "code",
      "source": [
        "# def baseline_model_64(num_genres=num_genres, input_shape=input_shape):\n",
        "#     model = Sequential()\n",
        "#     model.add(Conv2D(64, kernel_size=(3, 3),\n",
        "#                      activation='relu', kernel_regularizer=regularizers.l2(0.01),\n",
        "#                      input_shape=input_shape))\n",
        "#     model.add(MaxPooling2D(pool_size=(2, 4)))\n",
        "#     model.add(Conv2D(64, (3, 5), activation='relu', kernel_regularizer=regularizers.l2(0.01)))\n",
        "#     model.add(MaxPooling2D(pool_size=(2, 4)))\n",
        "#     model.add(Dropout(0.2))\n",
        "#     model.add(Flatten())\n",
        "#     model.add(Dense(32, activation='relu', kernel_regularizer=regularizers.l2(0.02)))\n",
        "#     model.add(Dropout(0.2))\n",
        "#     model.add(Dense(num_genres, activation='softmax'))\n",
        "#     model.compile(loss=keras.losses.categorical_crossentropy,\n",
        "#                   optimizer=keras.optimizers.Adadelta(decay=1e-5),\n",
        "#                   metrics=['accuracy'])\n",
        "#     return(model)"
      ],
      "execution_count": 0,
      "outputs": []
    },
    {
      "metadata": {
        "id": "SySPkBHdtQzK",
        "colab_type": "code",
        "colab": {}
      },
      "cell_type": "code",
      "source": [
        "#we use 1-channel image \n",
        "#no flattern, only drop once \n",
        "import torch.nn as nn \n",
        "import torch.nn.functional as F\n",
        "\n",
        "class Net(nn.Module):\n",
        "    def __init__(self):\n",
        "        super(Net, self).__init__()\n",
        "        #64 3*3 filters with stride 1 \n",
        "        self.conv1 = nn.Conv2d(in_channels=1, out_channels=64, kernel_size=3, stride=1)\n",
        "        #max pooling 2*4\n",
        "        self.pool = nn.MaxPool2d(2, 4)\n",
        "        #64 3*5 filters with stride 1\n",
        "        self.conv2 = nn.Conv2d(in_channels=1, out_channels=64, kernel_size=(3,5), stride=1)\n",
        "        #max pooling 2*4\n",
        "        #dropout 0.2\n",
        "        self.dropout = nn.Dropout(p=0.2, inplace=False)\n",
        "        #fully connected layer 32 nerous to pervious ones \n",
        "        self.fc1 = nn.Linear(64 * 3 * 5, 32)\n",
        "        #output layers 8 nerous fully connected \n",
        "        self.fc2 = nn.Linear(32, 8)\n",
        "\n",
        "\n",
        "    def forward(self, x):\n",
        "        x = self.pool(F.relu(self.conv1(x)))\n",
        "        #x = self.pool(F.relu(self.conv2(x)))\n",
        "        #x = self.dropout(x)\n",
        "        #x = x.view(-1, 64 * 3 * 5)\n",
        "        #x = F.relu(self.fc1(x))\n",
        "        #x = self.fc2(x)\n",
        "        #return x\n"
      ],
      "execution_count": 0,
      "outputs": []
    },
    {
      "metadata": {
        "id": "uc96h5v3o3SD",
        "colab_type": "code",
        "colab": {}
      },
      "cell_type": "code",
      "source": [
        "net = Net()"
      ],
      "execution_count": 0,
      "outputs": []
    },
    {
      "metadata": {
        "id": "UlEjlnMS4IdC",
        "colab_type": "code",
        "outputId": "b1a7aff9-91ee-44d2-877d-d924c91ff293",
        "colab": {
          "base_uri": "https://localhost:8080/",
          "height": 670
        }
      },
      "cell_type": "code",
      "source": [
        "x =images[1][0]\n",
        "x = net(x)"
      ],
      "execution_count": 0,
      "outputs": [
        {
          "output_type": "error",
          "ename": "RuntimeError",
          "evalue": "ignored",
          "traceback": [
            "\u001b[0;31m---------------------------------------------------------------------------\u001b[0m",
            "\u001b[0;31mRuntimeError\u001b[0m                              Traceback (most recent call last)",
            "\u001b[0;32m<ipython-input-49-9ad91c11d62b>\u001b[0m in \u001b[0;36m<module>\u001b[0;34m()\u001b[0m\n\u001b[1;32m      1\u001b[0m \u001b[0mx\u001b[0m \u001b[0;34m=\u001b[0m\u001b[0mimages\u001b[0m\u001b[0;34m[\u001b[0m\u001b[0;36m1\u001b[0m\u001b[0;34m]\u001b[0m\u001b[0;34m[\u001b[0m\u001b[0;36m0\u001b[0m\u001b[0;34m]\u001b[0m\u001b[0;34m\u001b[0m\u001b[0m\n\u001b[0;32m----> 2\u001b[0;31m \u001b[0mx\u001b[0m \u001b[0;34m=\u001b[0m \u001b[0mnet\u001b[0m\u001b[0;34m(\u001b[0m\u001b[0mx\u001b[0m\u001b[0;34m)\u001b[0m\u001b[0;34m\u001b[0m\u001b[0m\n\u001b[0m",
            "\u001b[0;32m/usr/local/lib/python3.6/dist-packages/torch/nn/modules/module.py\u001b[0m in \u001b[0;36m__call__\u001b[0;34m(self, *input, **kwargs)\u001b[0m\n\u001b[1;32m    475\u001b[0m             \u001b[0mresult\u001b[0m \u001b[0;34m=\u001b[0m \u001b[0mself\u001b[0m\u001b[0;34m.\u001b[0m\u001b[0m_slow_forward\u001b[0m\u001b[0;34m(\u001b[0m\u001b[0;34m*\u001b[0m\u001b[0minput\u001b[0m\u001b[0;34m,\u001b[0m \u001b[0;34m**\u001b[0m\u001b[0mkwargs\u001b[0m\u001b[0;34m)\u001b[0m\u001b[0;34m\u001b[0m\u001b[0m\n\u001b[1;32m    476\u001b[0m         \u001b[0;32melse\u001b[0m\u001b[0;34m:\u001b[0m\u001b[0;34m\u001b[0m\u001b[0m\n\u001b[0;32m--> 477\u001b[0;31m             \u001b[0mresult\u001b[0m \u001b[0;34m=\u001b[0m \u001b[0mself\u001b[0m\u001b[0;34m.\u001b[0m\u001b[0mforward\u001b[0m\u001b[0;34m(\u001b[0m\u001b[0;34m*\u001b[0m\u001b[0minput\u001b[0m\u001b[0;34m,\u001b[0m \u001b[0;34m**\u001b[0m\u001b[0mkwargs\u001b[0m\u001b[0;34m)\u001b[0m\u001b[0;34m\u001b[0m\u001b[0m\n\u001b[0m\u001b[1;32m    478\u001b[0m         \u001b[0;32mfor\u001b[0m \u001b[0mhook\u001b[0m \u001b[0;32min\u001b[0m \u001b[0mself\u001b[0m\u001b[0;34m.\u001b[0m\u001b[0m_forward_hooks\u001b[0m\u001b[0;34m.\u001b[0m\u001b[0mvalues\u001b[0m\u001b[0;34m(\u001b[0m\u001b[0;34m)\u001b[0m\u001b[0;34m:\u001b[0m\u001b[0;34m\u001b[0m\u001b[0m\n\u001b[1;32m    479\u001b[0m             \u001b[0mhook_result\u001b[0m \u001b[0;34m=\u001b[0m \u001b[0mhook\u001b[0m\u001b[0;34m(\u001b[0m\u001b[0mself\u001b[0m\u001b[0;34m,\u001b[0m \u001b[0minput\u001b[0m\u001b[0;34m,\u001b[0m \u001b[0mresult\u001b[0m\u001b[0;34m)\u001b[0m\u001b[0;34m\u001b[0m\u001b[0m\n",
            "\u001b[0;32m<ipython-input-35-513324774417>\u001b[0m in \u001b[0;36mforward\u001b[0;34m(self, x)\u001b[0m\n\u001b[1;32m     21\u001b[0m \u001b[0;34m\u001b[0m\u001b[0m\n\u001b[1;32m     22\u001b[0m     \u001b[0;32mdef\u001b[0m \u001b[0mforward\u001b[0m\u001b[0;34m(\u001b[0m\u001b[0mself\u001b[0m\u001b[0;34m,\u001b[0m \u001b[0mx\u001b[0m\u001b[0;34m)\u001b[0m\u001b[0;34m:\u001b[0m\u001b[0;34m\u001b[0m\u001b[0m\n\u001b[0;32m---> 23\u001b[0;31m         \u001b[0mx\u001b[0m \u001b[0;34m=\u001b[0m \u001b[0mself\u001b[0m\u001b[0;34m.\u001b[0m\u001b[0mpool\u001b[0m\u001b[0;34m(\u001b[0m\u001b[0mF\u001b[0m\u001b[0;34m.\u001b[0m\u001b[0mrelu\u001b[0m\u001b[0;34m(\u001b[0m\u001b[0mself\u001b[0m\u001b[0;34m.\u001b[0m\u001b[0mconv1\u001b[0m\u001b[0;34m(\u001b[0m\u001b[0mx\u001b[0m\u001b[0;34m)\u001b[0m\u001b[0;34m)\u001b[0m\u001b[0;34m)\u001b[0m\u001b[0;34m\u001b[0m\u001b[0m\n\u001b[0m\u001b[1;32m     24\u001b[0m         \u001b[0mx\u001b[0m \u001b[0;34m=\u001b[0m \u001b[0mself\u001b[0m\u001b[0;34m.\u001b[0m\u001b[0mpool\u001b[0m\u001b[0;34m(\u001b[0m\u001b[0mF\u001b[0m\u001b[0;34m.\u001b[0m\u001b[0mrelu\u001b[0m\u001b[0;34m(\u001b[0m\u001b[0mself\u001b[0m\u001b[0;34m.\u001b[0m\u001b[0mconv2\u001b[0m\u001b[0;34m(\u001b[0m\u001b[0mx\u001b[0m\u001b[0;34m)\u001b[0m\u001b[0;34m)\u001b[0m\u001b[0;34m)\u001b[0m\u001b[0;34m\u001b[0m\u001b[0m\n\u001b[1;32m     25\u001b[0m         \u001b[0mx\u001b[0m \u001b[0;34m=\u001b[0m \u001b[0mself\u001b[0m\u001b[0;34m.\u001b[0m\u001b[0mdropout\u001b[0m\u001b[0;34m(\u001b[0m\u001b[0mx\u001b[0m\u001b[0;34m)\u001b[0m\u001b[0;34m\u001b[0m\u001b[0m\n",
            "\u001b[0;32m/usr/local/lib/python3.6/dist-packages/torch/nn/modules/module.py\u001b[0m in \u001b[0;36m__call__\u001b[0;34m(self, *input, **kwargs)\u001b[0m\n\u001b[1;32m    475\u001b[0m             \u001b[0mresult\u001b[0m \u001b[0;34m=\u001b[0m \u001b[0mself\u001b[0m\u001b[0;34m.\u001b[0m\u001b[0m_slow_forward\u001b[0m\u001b[0;34m(\u001b[0m\u001b[0;34m*\u001b[0m\u001b[0minput\u001b[0m\u001b[0;34m,\u001b[0m \u001b[0;34m**\u001b[0m\u001b[0mkwargs\u001b[0m\u001b[0;34m)\u001b[0m\u001b[0;34m\u001b[0m\u001b[0m\n\u001b[1;32m    476\u001b[0m         \u001b[0;32melse\u001b[0m\u001b[0;34m:\u001b[0m\u001b[0;34m\u001b[0m\u001b[0m\n\u001b[0;32m--> 477\u001b[0;31m             \u001b[0mresult\u001b[0m \u001b[0;34m=\u001b[0m \u001b[0mself\u001b[0m\u001b[0;34m.\u001b[0m\u001b[0mforward\u001b[0m\u001b[0;34m(\u001b[0m\u001b[0;34m*\u001b[0m\u001b[0minput\u001b[0m\u001b[0;34m,\u001b[0m \u001b[0;34m**\u001b[0m\u001b[0mkwargs\u001b[0m\u001b[0;34m)\u001b[0m\u001b[0;34m\u001b[0m\u001b[0m\n\u001b[0m\u001b[1;32m    478\u001b[0m         \u001b[0;32mfor\u001b[0m \u001b[0mhook\u001b[0m \u001b[0;32min\u001b[0m \u001b[0mself\u001b[0m\u001b[0;34m.\u001b[0m\u001b[0m_forward_hooks\u001b[0m\u001b[0;34m.\u001b[0m\u001b[0mvalues\u001b[0m\u001b[0;34m(\u001b[0m\u001b[0;34m)\u001b[0m\u001b[0;34m:\u001b[0m\u001b[0;34m\u001b[0m\u001b[0m\n\u001b[1;32m    479\u001b[0m             \u001b[0mhook_result\u001b[0m \u001b[0;34m=\u001b[0m \u001b[0mhook\u001b[0m\u001b[0;34m(\u001b[0m\u001b[0mself\u001b[0m\u001b[0;34m,\u001b[0m \u001b[0minput\u001b[0m\u001b[0;34m,\u001b[0m \u001b[0mresult\u001b[0m\u001b[0;34m)\u001b[0m\u001b[0;34m\u001b[0m\u001b[0m\n",
            "\u001b[0;32m/usr/local/lib/python3.6/dist-packages/torch/nn/modules/conv.py\u001b[0m in \u001b[0;36mforward\u001b[0;34m(self, input)\u001b[0m\n\u001b[1;32m    299\u001b[0m     \u001b[0;32mdef\u001b[0m \u001b[0mforward\u001b[0m\u001b[0;34m(\u001b[0m\u001b[0mself\u001b[0m\u001b[0;34m,\u001b[0m \u001b[0minput\u001b[0m\u001b[0;34m)\u001b[0m\u001b[0;34m:\u001b[0m\u001b[0;34m\u001b[0m\u001b[0m\n\u001b[1;32m    300\u001b[0m         return F.conv2d(input, self.weight, self.bias, self.stride,\n\u001b[0;32m--> 301\u001b[0;31m                         self.padding, self.dilation, self.groups)\n\u001b[0m\u001b[1;32m    302\u001b[0m \u001b[0;34m\u001b[0m\u001b[0m\n\u001b[1;32m    303\u001b[0m \u001b[0;34m\u001b[0m\u001b[0m\n",
            "\u001b[0;31mRuntimeError\u001b[0m: Expected 4-dimensional input for 4-dimensional weight [64, 1, 3, 3], but got input of size [64, 2580] instead"
          ]
        }
      ]
    },
    {
      "metadata": {
        "id": "XjSJT4IfydQx",
        "colab_type": "code",
        "outputId": "9de7d661-eb85-4610-9c5f-7e214f452c55",
        "colab": {
          "base_uri": "https://localhost:8080/",
          "height": 151
        }
      },
      "cell_type": "code",
      "source": [
        "for k in net.parameters():\n",
        "    print(k.size())"
      ],
      "execution_count": 0,
      "outputs": [
        {
          "output_type": "stream",
          "text": [
            "torch.Size([64, 1, 3, 3])\n",
            "torch.Size([64])\n",
            "torch.Size([64, 1, 3, 5])\n",
            "torch.Size([64])\n",
            "torch.Size([32, 960])\n",
            "torch.Size([32])\n",
            "torch.Size([8, 32])\n",
            "torch.Size([8])\n"
          ],
          "name": "stdout"
        }
      ]
    },
    {
      "metadata": {
        "id": "S2tnI7-qzHTi",
        "colab_type": "code",
        "colab": {}
      },
      "cell_type": "code",
      "source": [
        ""
      ],
      "execution_count": 0,
      "outputs": []
    },
    {
      "metadata": {
        "id": "MEhraM_Qo1Fi",
        "colab_type": "text"
      },
      "cell_type": "markdown",
      "source": [
        "#### Define a loss function and optimizer \n",
        "-  Cross-Entropy Loss \n",
        "-  SGD opitimizer "
      ]
    },
    {
      "metadata": {
        "id": "KQUtkhY8ong5",
        "colab_type": "code",
        "colab": {}
      },
      "cell_type": "code",
      "source": [
        "import torch.optim as optim \n",
        "criterion = nn.CrossEntropyLoss()\n",
        "optimizer = optim.SGD(net.parameters(),lr=0.001)"
      ],
      "execution_count": 0,
      "outputs": []
    },
    {
      "metadata": {
        "id": "-WTojvS64X2w",
        "colab_type": "code",
        "outputId": "273dfd80-80f2-4a5b-b7e4-83bc5d2f52ab",
        "colab": {
          "base_uri": "https://localhost:8080/",
          "height": 34
        }
      },
      "cell_type": "code",
      "source": [
        " enumerate(train_loader, 0)"
      ],
      "execution_count": 0,
      "outputs": [
        {
          "output_type": "execute_result",
          "data": {
            "text/plain": [
              "<enumerate at 0x7fe4d0c1b798>"
            ]
          },
          "metadata": {
            "tags": []
          },
          "execution_count": 42
        }
      ]
    },
    {
      "metadata": {
        "id": "MIWxSb6rpjC8",
        "colab_type": "text"
      },
      "cell_type": "markdown",
      "source": [
        "#### Train the Network"
      ]
    },
    {
      "metadata": {
        "id": "tNmzZMwEpgnr",
        "colab_type": "code",
        "outputId": "7065767d-b899-4ce4-d5dc-e9038a8ca167",
        "colab": {
          "base_uri": "https://localhost:8080/",
          "height": 720
        }
      },
      "cell_type": "code",
      "source": [
        "for epoch in range(2):  # loop over the dataset multiple times\n",
        "\n",
        "    running_loss = 0.0\n",
        "    for i, data in enumerate(train_loader, 0):\n",
        "        # get the inputs\n",
        "        inputs, labels = data\n",
        "\n",
        "        # zero the parameter gradients\n",
        "        optimizer.zero_grad()\n",
        "\n",
        "        # forward + backward + optimize\n",
        "        outputs = net(inputs)\n",
        "        loss = criterion(outputs, labels)\n",
        "        loss.backward()\n",
        "        optimizer.step()\n",
        "\n",
        "        # print statistics\n",
        "        running_loss += loss.item()\n",
        "        if i % 100 == 99:    # print every 2000 mini-batches\n",
        "            print('[%d, %5d] loss: %.3f' %\n",
        "                  (epoch + 1, i + 1, running_loss / 100))\n",
        "            running_loss = 0.0\n",
        "\n",
        "print('Finished Training')"
      ],
      "execution_count": 0,
      "outputs": [
        {
          "output_type": "error",
          "ename": "ValueError",
          "evalue": "ignored",
          "traceback": [
            "\u001b[0;31m---------------------------------------------------------------------------\u001b[0m",
            "\u001b[0;31mValueError\u001b[0m                                Traceback (most recent call last)",
            "\u001b[0;32m<ipython-input-34-e71a643ad1fd>\u001b[0m in \u001b[0;36m<module>\u001b[0;34m()\u001b[0m\n\u001b[1;32m     11\u001b[0m         \u001b[0;31m# forward + backward + optimize\u001b[0m\u001b[0;34m\u001b[0m\u001b[0;34m\u001b[0m\u001b[0m\n\u001b[1;32m     12\u001b[0m         \u001b[0moutputs\u001b[0m \u001b[0;34m=\u001b[0m \u001b[0mnet\u001b[0m\u001b[0;34m(\u001b[0m\u001b[0minputs\u001b[0m\u001b[0;34m)\u001b[0m\u001b[0;34m\u001b[0m\u001b[0m\n\u001b[0;32m---> 13\u001b[0;31m         \u001b[0mloss\u001b[0m \u001b[0;34m=\u001b[0m \u001b[0mcriterion\u001b[0m\u001b[0;34m(\u001b[0m\u001b[0moutputs\u001b[0m\u001b[0;34m,\u001b[0m \u001b[0mlabels\u001b[0m\u001b[0;34m)\u001b[0m\u001b[0;34m\u001b[0m\u001b[0m\n\u001b[0m\u001b[1;32m     14\u001b[0m         \u001b[0mloss\u001b[0m\u001b[0;34m.\u001b[0m\u001b[0mbackward\u001b[0m\u001b[0;34m(\u001b[0m\u001b[0;34m)\u001b[0m\u001b[0;34m\u001b[0m\u001b[0m\n\u001b[1;32m     15\u001b[0m         \u001b[0moptimizer\u001b[0m\u001b[0;34m.\u001b[0m\u001b[0mstep\u001b[0m\u001b[0;34m(\u001b[0m\u001b[0;34m)\u001b[0m\u001b[0;34m\u001b[0m\u001b[0m\n",
            "\u001b[0;32m/usr/local/lib/python3.6/dist-packages/torch/nn/modules/module.py\u001b[0m in \u001b[0;36m__call__\u001b[0;34m(self, *input, **kwargs)\u001b[0m\n\u001b[1;32m    475\u001b[0m             \u001b[0mresult\u001b[0m \u001b[0;34m=\u001b[0m \u001b[0mself\u001b[0m\u001b[0;34m.\u001b[0m\u001b[0m_slow_forward\u001b[0m\u001b[0;34m(\u001b[0m\u001b[0;34m*\u001b[0m\u001b[0minput\u001b[0m\u001b[0;34m,\u001b[0m \u001b[0;34m**\u001b[0m\u001b[0mkwargs\u001b[0m\u001b[0;34m)\u001b[0m\u001b[0;34m\u001b[0m\u001b[0m\n\u001b[1;32m    476\u001b[0m         \u001b[0;32melse\u001b[0m\u001b[0;34m:\u001b[0m\u001b[0;34m\u001b[0m\u001b[0m\n\u001b[0;32m--> 477\u001b[0;31m             \u001b[0mresult\u001b[0m \u001b[0;34m=\u001b[0m \u001b[0mself\u001b[0m\u001b[0;34m.\u001b[0m\u001b[0mforward\u001b[0m\u001b[0;34m(\u001b[0m\u001b[0;34m*\u001b[0m\u001b[0minput\u001b[0m\u001b[0;34m,\u001b[0m \u001b[0;34m**\u001b[0m\u001b[0mkwargs\u001b[0m\u001b[0;34m)\u001b[0m\u001b[0;34m\u001b[0m\u001b[0m\n\u001b[0m\u001b[1;32m    478\u001b[0m         \u001b[0;32mfor\u001b[0m \u001b[0mhook\u001b[0m \u001b[0;32min\u001b[0m \u001b[0mself\u001b[0m\u001b[0;34m.\u001b[0m\u001b[0m_forward_hooks\u001b[0m\u001b[0;34m.\u001b[0m\u001b[0mvalues\u001b[0m\u001b[0;34m(\u001b[0m\u001b[0;34m)\u001b[0m\u001b[0;34m:\u001b[0m\u001b[0;34m\u001b[0m\u001b[0m\n\u001b[1;32m    479\u001b[0m             \u001b[0mhook_result\u001b[0m \u001b[0;34m=\u001b[0m \u001b[0mhook\u001b[0m\u001b[0;34m(\u001b[0m\u001b[0mself\u001b[0m\u001b[0;34m,\u001b[0m \u001b[0minput\u001b[0m\u001b[0;34m,\u001b[0m \u001b[0mresult\u001b[0m\u001b[0;34m)\u001b[0m\u001b[0;34m\u001b[0m\u001b[0m\n",
            "\u001b[0;32m/usr/local/lib/python3.6/dist-packages/torch/nn/modules/loss.py\u001b[0m in \u001b[0;36mforward\u001b[0;34m(self, input, target)\u001b[0m\n\u001b[1;32m    860\u001b[0m     \u001b[0;32mdef\u001b[0m \u001b[0mforward\u001b[0m\u001b[0;34m(\u001b[0m\u001b[0mself\u001b[0m\u001b[0;34m,\u001b[0m \u001b[0minput\u001b[0m\u001b[0;34m,\u001b[0m \u001b[0mtarget\u001b[0m\u001b[0;34m)\u001b[0m\u001b[0;34m:\u001b[0m\u001b[0;34m\u001b[0m\u001b[0m\n\u001b[1;32m    861\u001b[0m         return F.cross_entropy(input, target, weight=self.weight,\n\u001b[0;32m--> 862\u001b[0;31m                                ignore_index=self.ignore_index, reduction=self.reduction)\n\u001b[0m\u001b[1;32m    863\u001b[0m \u001b[0;34m\u001b[0m\u001b[0m\n\u001b[1;32m    864\u001b[0m \u001b[0;34m\u001b[0m\u001b[0m\n",
            "\u001b[0;32m/usr/local/lib/python3.6/dist-packages/torch/nn/functional.py\u001b[0m in \u001b[0;36mcross_entropy\u001b[0;34m(input, target, weight, size_average, ignore_index, reduce, reduction)\u001b[0m\n\u001b[1;32m   1548\u001b[0m     \u001b[0;32mif\u001b[0m \u001b[0msize_average\u001b[0m \u001b[0;32mis\u001b[0m \u001b[0;32mnot\u001b[0m \u001b[0;32mNone\u001b[0m \u001b[0;32mor\u001b[0m \u001b[0mreduce\u001b[0m \u001b[0;32mis\u001b[0m \u001b[0;32mnot\u001b[0m \u001b[0;32mNone\u001b[0m\u001b[0;34m:\u001b[0m\u001b[0;34m\u001b[0m\u001b[0m\n\u001b[1;32m   1549\u001b[0m         \u001b[0mreduction\u001b[0m \u001b[0;34m=\u001b[0m \u001b[0m_Reduction\u001b[0m\u001b[0;34m.\u001b[0m\u001b[0mlegacy_get_string\u001b[0m\u001b[0;34m(\u001b[0m\u001b[0msize_average\u001b[0m\u001b[0;34m,\u001b[0m \u001b[0mreduce\u001b[0m\u001b[0;34m)\u001b[0m\u001b[0;34m\u001b[0m\u001b[0m\n\u001b[0;32m-> 1550\u001b[0;31m     \u001b[0;32mreturn\u001b[0m \u001b[0mnll_loss\u001b[0m\u001b[0;34m(\u001b[0m\u001b[0mlog_softmax\u001b[0m\u001b[0;34m(\u001b[0m\u001b[0minput\u001b[0m\u001b[0;34m,\u001b[0m \u001b[0;36m1\u001b[0m\u001b[0;34m)\u001b[0m\u001b[0;34m,\u001b[0m \u001b[0mtarget\u001b[0m\u001b[0;34m,\u001b[0m \u001b[0mweight\u001b[0m\u001b[0;34m,\u001b[0m \u001b[0;32mNone\u001b[0m\u001b[0;34m,\u001b[0m \u001b[0mignore_index\u001b[0m\u001b[0;34m,\u001b[0m \u001b[0;32mNone\u001b[0m\u001b[0;34m,\u001b[0m \u001b[0mreduction\u001b[0m\u001b[0;34m)\u001b[0m\u001b[0;34m\u001b[0m\u001b[0m\n\u001b[0m\u001b[1;32m   1551\u001b[0m \u001b[0;34m\u001b[0m\u001b[0m\n\u001b[1;32m   1552\u001b[0m \u001b[0;34m\u001b[0m\u001b[0m\n",
            "\u001b[0;32m/usr/local/lib/python3.6/dist-packages/torch/nn/functional.py\u001b[0m in \u001b[0;36mnll_loss\u001b[0;34m(input, target, weight, size_average, ignore_index, reduce, reduction)\u001b[0m\n\u001b[1;32m   1403\u001b[0m     \u001b[0;32mif\u001b[0m \u001b[0minput\u001b[0m\u001b[0;34m.\u001b[0m\u001b[0msize\u001b[0m\u001b[0;34m(\u001b[0m\u001b[0;36m0\u001b[0m\u001b[0;34m)\u001b[0m \u001b[0;34m!=\u001b[0m \u001b[0mtarget\u001b[0m\u001b[0;34m.\u001b[0m\u001b[0msize\u001b[0m\u001b[0;34m(\u001b[0m\u001b[0;36m0\u001b[0m\u001b[0;34m)\u001b[0m\u001b[0;34m:\u001b[0m\u001b[0;34m\u001b[0m\u001b[0m\n\u001b[1;32m   1404\u001b[0m         raise ValueError('Expected input batch_size ({}) to match target batch_size ({}).'\n\u001b[0;32m-> 1405\u001b[0;31m                          .format(input.size(0), target.size(0)))\n\u001b[0m\u001b[1;32m   1406\u001b[0m     \u001b[0;32mif\u001b[0m \u001b[0mdim\u001b[0m \u001b[0;34m==\u001b[0m \u001b[0;36m2\u001b[0m\u001b[0;34m:\u001b[0m\u001b[0;34m\u001b[0m\u001b[0m\n\u001b[1;32m   1407\u001b[0m         \u001b[0;32mreturn\u001b[0m \u001b[0mtorch\u001b[0m\u001b[0;34m.\u001b[0m\u001b[0m_C\u001b[0m\u001b[0;34m.\u001b[0m\u001b[0m_nn\u001b[0m\u001b[0;34m.\u001b[0m\u001b[0mnll_loss\u001b[0m\u001b[0;34m(\u001b[0m\u001b[0minput\u001b[0m\u001b[0;34m,\u001b[0m \u001b[0mtarget\u001b[0m\u001b[0;34m,\u001b[0m \u001b[0mweight\u001b[0m\u001b[0;34m,\u001b[0m \u001b[0m_Reduction\u001b[0m\u001b[0;34m.\u001b[0m\u001b[0mget_enum\u001b[0m\u001b[0;34m(\u001b[0m\u001b[0mreduction\u001b[0m\u001b[0;34m)\u001b[0m\u001b[0;34m,\u001b[0m \u001b[0mignore_index\u001b[0m\u001b[0;34m)\u001b[0m\u001b[0;34m\u001b[0m\u001b[0m\n",
            "\u001b[0;31mValueError\u001b[0m: Expected input batch_size (3440) to match target batch_size (5)."
          ]
        }
      ]
    },
    {
      "metadata": {
        "id": "ANbsJizbqBUF",
        "colab_type": "code",
        "colab": {}
      },
      "cell_type": "code",
      "source": [
        ""
      ],
      "execution_count": 0,
      "outputs": []
    }
  ]
}